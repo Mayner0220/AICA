{
 "cells": [
  {
   "cell_type": "code",
   "execution_count": 14,
   "metadata": {
    "ExecuteTime": {
     "end_time": "2021-04-24T12:34:12.418104Z",
     "start_time": "2021-04-24T12:34:12.403107Z"
    }
   },
   "outputs": [],
   "source": [
    "import os\n",
    "os.environ['TF_CPP_MIN_LOG_LEVEL'] = \"3\"\n",
    "\n",
    "import glob\n",
    "import numpy as np\n",
    "import tensorflow as tf"
   ]
  },
  {
   "cell_type": "code",
   "execution_count": 15,
   "metadata": {
    "ExecuteTime": {
     "end_time": "2021-04-24T12:34:12.573383Z",
     "start_time": "2021-04-24T12:34:12.556385Z"
    }
   },
   "outputs": [],
   "source": [
    "def _bytes_feature(value: [str, bytes]) -> tf.train.Feature:\n",
    "    \"\"\"string / byte를 byte_list로 반환합니다.\"\"\"\n",
    "    if isinstance(value, type(tf.constant(0))):\n",
    "        value = value.numpy() # BytesList는 EagerTensor에서 문자열을 풀지 않습니다.\n",
    "    \n",
    "    return tf.train.Feature(bytes_list=tf.train.BytesList(value=[value]))"
   ]
  },
  {
   "cell_type": "code",
   "execution_count": 16,
   "metadata": {
    "ExecuteTime": {
     "end_time": "2021-04-24T12:34:12.713890Z",
     "start_time": "2021-04-24T12:34:12.703912Z"
    }
   },
   "outputs": [],
   "source": [
    "def _int64_feature(value: [bool, int]) -> tf.train.Feature:\n",
    "    \"\"\"bool / enum / int / uint를 int64_list로 반환합니다.\"\"\"\n",
    "    return tf.train.Feature(int64_list=tf.train.Int64List(value=[value]))"
   ]
  },
  {
   "cell_type": "code",
   "execution_count": 17,
   "metadata": {
    "ExecuteTime": {
     "end_time": "2021-04-24T12:34:12.854919Z",
     "start_time": "2021-04-24T12:34:12.837274Z"
    }
   },
   "outputs": [],
   "source": [
    "image_labels =  {\n",
    "    \"NonDemented\": 0,\n",
    "    \"VeryMildDemented\": 1,\n",
    "    \"MildDemented\": 2,\n",
    "    \"ModerateDemented\": 3\n",
    "}"
   ]
  },
  {
   "cell_type": "code",
   "execution_count": 18,
   "metadata": {
    "ExecuteTime": {
     "end_time": "2021-04-24T12:34:12.980785Z",
     "start_time": "2021-04-24T12:34:12.971791Z"
    }
   },
   "outputs": [],
   "source": [
    "image_path = \"./dataset/train/NonDemented/nonDem0.jpg\"\n",
    "image_string = open(image_path, \"rb\").read()\n",
    "\n",
    "label = image_labels[\"NonDemented\"]"
   ]
  },
  {
   "cell_type": "code",
   "execution_count": 19,
   "metadata": {
    "ExecuteTime": {
     "end_time": "2021-04-24T12:34:13.120336Z",
     "start_time": "2021-04-24T12:34:13.116337Z"
    }
   },
   "outputs": [],
   "source": [
    "def image_example(image_string, label):\n",
    "    feature = {\n",
    "        \"label\": _int64_feature(label),\n",
    "        \"image_raw\": _bytes_feature(image_string),\n",
    "    }\n",
    "    \n",
    "    return tf.train.Example(features=tf.train.Features(feature=feature))"
   ]
  },
  {
   "cell_type": "code",
   "execution_count": 20,
   "metadata": {
    "ExecuteTime": {
     "end_time": "2021-04-24T12:34:13.277824Z",
     "start_time": "2021-04-24T12:34:13.257829Z"
    }
   },
   "outputs": [
    {
     "name": "stdout",
     "output_type": "stream",
     "text": [
      "features {\n",
      "  feature {\n",
      "    key: \"image_raw\"\n",
      "    value {\n",
      "      bytes_list {\n",
      "        value: \"\\377\\330\\377\\340\\000\\020JFIF\\000\\001\\001\\000\\000\\001\\000\\001\\000\\000\\377\\333\\000C\\000\\010\\006\\006\\007\\006\\005\\010\\007\\007\\007\\t\\t\\010\\n\\014\\024\\r\\014\\013\\013\\014\\031\\022\\023\\017\\024\\035\\032\\037\\036\\035\\032\\034\\034 $.\\' \\\",#\\034\\034(7),01444\\037\\'9=82<.342\\377\\300\\000\\013\\010\\000\\320\\000\\260\\001\\001\\021\\000\\377\\304\\000\\037\\000\\000\\001\\005\\001\\001\\001\\001\\001\\001\\000\\000\\000\\000\\000\\000\\000\\000\\001\\002\\003\\004\\005\\006\\007\\010\\t\\n\\013\\377\\304\\000\\265\\020\\000\\002\\001\\003\\003\\002\\004\\003\\005\\005\\004\\004\\000\\000\\001}\\001\\002\\003\\000\\004\\021\\005\\022!1A\\006\\023Qa\\007\\\"q\\0242\\201\\221\\241\\010#B\\261\\301\\025R\\321\\360$3br\\202\\t\\n\\026\\027\\030\\031\\032%&\\'()*456789:CDEFGHIJSTUVWXYZcdefghijstuvwxyz\\203\\204\\205\\206\\207\\210\\211\\212\\222\\223\\224\\225\\226\\227\\230\\231\\232\\242\\243\\244\\245\\246\\247\\250\\251\\252\\262\\263\\264\\265\\266\\267\\270\\271\\272\\302\\303\\304\\305\\306\\307\\310\\311\\312\\322\\323\\324\\325\\326\\327\\330\\331\\332\\341\\342\\343\\344\\345\\346\\347\\350\\351\\352\\361\\362\\363\\364\\365\\366\\367\\370\\371\\372\\377\\332\\000\\010\\001\\001\\000\\000?\\000\\371\\376\\212(\\242\\212(\\242\\212(\\242\\212(\\242\\212(\\242\\212(\\242\\212(\\242\\212(\\242\\212(\\242\\212(\\242\\212(\\242\\212(\\242\\212+\\177A\\360\\225\\366\\2727G\\373\\250\\3620\\305s\\232\\356\\2749\\360\\353L\\220H\\232\\234^kC\\367\\337\\314e\\343\\350\\010\\246j~\\014\\320ed]7N\\231#\\311Wq+\\222=\\376bEr\\021\\370=\\316\\252\\266Fw\\220\\216\\\\G\\037;A\\372\\327\\240\\301\\360\\363\\303\\3271)\\267\\263i&\\214fHZg\\004\\376\\265\\247?\\303?\\013C\\245\\265\\344\\272t\\220\\236\\233\\014\\322\\034\\037\\373\\352\\274\\317_\\360\\225\\275\\245\\323\\311crE\\274\\2071\\306\\343;}\\267g\\246}\\277:\\345g\\265\\232\\325\\202\\315\\031Bzg\\275EE\\024QE\\024QE\\024T\\266\\366\\323]\\316\\260\\301\\031\\222F\\350\\242\\275K\\301_\\rf\\221\\243\\272\\277\\2103\\237\\340\\352\\020z{\\232\\356\\242\\320%\\360\\346\\263\\014\\226\\320f\\332f\\033\\202\\216=+R\\357D{t\\324g\\210\\214\\314\\277 \\007\\234\\232\\300\\212)\\254Z(\\356^?.O\\224\\2569\\006\\253i\\232l\\261x\\252\\342dd\\004\\256\\301\\274py\\346\\273(\\355\\255a\\324\\025\\227j\\334\\343\\346)\\3235{P\\265\\217Q\\264\\226\\334\\226\\335\\214\\217\\250\\346\\274\\322\\347FO\\355\\017>H\\311H\\333\\n\\270\\357[W>\\033\\262\\3244a+F\\0339R\\244u\\257&\\361?\\200\\347\\322<\\311\\355\\031\\344\\210\\034\\230\\231~d\\037^\\377\\000\\347\\255q\\224QE\\024QE\\024S\\342\\211\\246\\225cLnn\\231\\257L\\360\\217\\205\\342\\373;\\270\\337\\366\\241\\355\\203\\237j\\365\\317\\006\\033\\244\\r\\005\\3020\\000q\\221\\315uS\\354\\212#\\236@\\347\\236\\3075\\211|\\'[y\\335\\016\\347\\306Tb\\270-.\\321\\256\\265\\0236\\256\\362\\tVO\\2226\\373\\240{U\\335N[[Mv\\t\\356N\\310J\\360A\\343\\364\\255r\\326Z\\265\\347\\372)\\232\\t\\266\\344\\034\\034\\032n\\227\\253\\313\\024\\367\\026\\267-\\271\\340\\033\\203\\023\\214\\327Oh,\\365\\033O7bH\\257\\316@\\253?c\\202\\010Uc\\214l\\352\\027\\035\\rr\\3362X\\022\\335\\332E\\034!\\355\\326\\276{\\3264gq%\\345\\274,\\274\\222\\350\\027\\203\\356+\\235\\242\\212(\\242\\212(\\256\\337\\300\\376\\0347\\263-\\354\\221\\261\\003\\225\\3348\\257Y\\272\\320n-\\\"\\267\\272\\264\\r\\220\\0018\\357]o\\205\\257/o\\243\\220\\315lT\\\"\\343,0MlH\\253\\226i\\024\\200\\243<\\375+#M\\325#\\325n\\247\\215WjG\\362\\346\\241\\325\\374?\\034\\3471\\250\\007\\267\\265q> \\321$\\260Xn\\004\\314\\323\\202B\\0069\\037\\225l\\333\\301\\257]Z 3E\\0320\\345\\225pG\\347U/4\\007\\321\\254\\357\\357\\345\\232Igx\\216rs\\234\\372\\n\\310\\370Q\\257\\317\\025\\343\\351\\227l|\\271\\t)\\273\\370O\\\\W\\262\\345YF\\350\\361\\216\\304u\\256g\\305^\\037\\227X\\211\\014\\022(\\000\\340\\2068\\254\\241\\340\\350\\327K1J\\020\\310\\007\\335\\004\\021^\\025\\343\\317\\r\\035\\017R\\023B\\200Z\\313\\307^C\\363\\333\\351\\374\\253\\221\\242\\212(\\242\\212\\275\\245\\351\\315\\250\\334l\\336\\0225#sw\\347\\260\\037\\201\\372W\\256xcW\\217K\\213\\311x\\2101\\236\\tRT\\3765\\332h\\2368\\267\\236S\\013\\\"\\234c\\'\\030\\346\\273\\230.\\321\\342\\014\\203\\001\\207\\030\\034P\\250\\323#\\202x \\202\\r`\\350\\372l\\226Z\\274\\341\\023\\020\\266p\\330\\251\\365\\366\\325\\243H\\344\\261A$k\\367\\223\\271\\2567V\\326~\\322\\221E\\251Y\\274\\022\\253d\\0222\\270\\365\\310\\242=R\\313Q\\324\\304\\ru!\\265\\211\\007\\372\\243\\221]\\262\\275\\225\\326\\225\\230\\231g\\2125\\306\\033\\223\\\\\\332\\350\\272t\\315\\375\\241c\\020\\206\\3406\\354\\016\\0015\\332i\\227b\\366\\313\\315\\316%_\\225\\306s\\315r\\2364\\326\\257t\\353\\210\\240\\265\\210\\310\\307\\030@q\\272\\271y\\274O\\254\\010\\212\\275\\203\\206\\307_0W)\\257Y_\\370\\202\\'71)E\\031\\001z\\251\\365\\036\\365\\345\\327V\\357ku,\\022\\002\\0326*r1\\370\\324TQE\\024\\240\\026 \\000I<\\000;\\327\\247\\370\\037D\\216+-\\362B\\206v\\311c\\327\\351\\376\\025\\350\\\"\\302\\334\\330\\t\\243\\001H\\373\\303\\326\\261l\\344\\267\\212\\375\\326A\\264\\222q\\3063^\\255\\244\\274K\\244BU\\267*\\216\\271\\253\\305\\324[\\202\\016\\017ZH\\332B7)\\034\\214\\346\\261%\\325&\\202\\033\\311\\230\\357h\\316\\024v\\025\\344\\336!\\3614\\027\\302\\341o7\\206\\221Lj\\2129Px\\311\\253^\\035\\232\\033\\253{{;T\\033J\\376\\366R0\\177\\375u\\352\\032u\\265\\226\\225\\247lv\\332\\222\\014g\\034\\023X\\311\\250\\302\\372\\247\\331-\\307\\3122I\\252\\036\\035\\361D)\\343\\233\\315,\\221\\345K\\323\\007\\215\\302\\272\\375cB\\207X\\036c\\261\\216H\\371\\014;sXs\\370b\\312\\335<\\333\\313\\227\\333\\333\\214f\\250\\\\\\0356(\\214\\026\\366\\315\\264\\377\\000\\031<\\376U\\346\\037\\020<2\\253nom\\302\\231\\\"\\371\\230\\347\\031Ns\\217\\347\\217\\255y\\225\\024QEih\\220<\\332\\212\\262\\214\\204\\004\\220\\017\\'#\\034W\\256\\370z\\352;Kx\\321\\241p\\3541\\265\\224\\214\\372\\376\\265\\351z]\\205\\264\\226\\301\\314_,\\213\\310a\\337\\332\\242\\276\\360m\\244\\3402eG\\\\\\0228\\255\\017&\\0352\\302+tc\\267\\240\\347\\232\\231\\257!\\026\\3001\\000\\201\\327\\322\\2105(\\256#\\021\\333\\037\\231x\\036\\365\\305\\370\\337R\\376\\311\\212w\\004\\035\\313\\270\\200{\\232\\362\\215\\'J\\276\\326\\357\\344\\271\\363Q\\0246\\346\\222NG\\323\\002\\256Y\\213\\335\\027^h&\\227bN\\301D\\211\\302\\375@\\256\\373\\304:\\334\\313\\246\\300\\020\\223\\2610\\274\\367\\251\\374\\033n\\327\\036}\\303)c\\264\\234\\236\\365\\346\\220K>\\233\\343\\324\\226P\\310\\302\\344\\344\\036\\275k\\351h\\335n,\\322`\\300\\243(\\317?\\215p~\\\"\\325\\326K\\246\\004\\020\\261\\234c=k\\\"\\316\\365&\\230nQ\\214\\361Y>)\\277\\211\\255\\244\\205bG\\371>da\\306\\336\\365\\342W\\221,7\\327\\021(\\302\\244\\214\\240z\\000j\\032(\\242\\273\\377\\000\\207Z\\\\r\\274\\267r\\002G\\003\\221\\300\\353^\\277f\\332dAq\\016\\371\\027\\253\\265l\\333x\\202\\3167\\010T\\256N\\tS[B\\3529\\243\\r\\033y\\213\\323\\025\\305x\\327]m:\\362<\\222\\252\\247\\000\\001S-\\301\\326<8e\\266r\\316\\007c\\315a\\350w\\327:v\\250\\022}\\336Y\\'\\346n\\325\\314\\374@\\325Z\\375\\244NT\\254\\2407\\247|\\177*\\300\\321\\365\\210\\254-f\\216@\\356\\010\\310T8\\'\\361\\252wZ\\254\\227\\363G\\346\\237\\365l6d\\347\\003=\\315wz\\036\\231\\250k\\022\\033l\\253\\305\\020\\004\\347\\336\\2753H\\323\\327C\\323\\232I\\212t\\347\\035\\253\\307\\365\\325][\\304+w\\017\\313\\266^x\\301\\257m\\322\\244\\362t8L\\304\\242\\340d\\037\\245q\\376(\\360\\316\\247=\\367\\332,J\\230\\\\\\344\\0203\\332\\261\\023\\303\\332\\265\\224\\336qi$\\343\\225d\\307\\345\\212\\262lM\\304O\\346[\\200@\\371\\267\\257Q\\365\\257\\033\\361\\275\\2246>!d\\205\\002o\\214;\\343\\273\\022r\\177J\\347(\\242\\212\\356\\374+\\252\\r7I\\200H\\216\\361\\310\\355\\270/\\2405\\327.\\267\\024\\212\\032.\\006>m\\307\\201I\\006\\247=\\334\\336M\\270\\022|\\334\\260\\350;\\327\\243xN\\336\\354\\250\\222\\341\\233\\313\\355\\351X\\276;\\323>\\327tP\\177\\033\\202\\017\\245T\\320\\256\\237@\\036M\\262\\006L\\374\\352FI\\255\\375J]\\'Q\\260\\232B\\206\\336H\\320\\266\\3421\\203^1\\252]\\233\\273qn\\212\\322\\316ff\\335\\217\\274;\\177:\\211\\3741\\254\\301\\nJl\\345Un\\237/5\\035\\337\\207uM>%\\271\\270\\265\\221\\021\\271\\334W\\245w\\336\\005\\361\\030\\261\\264\\271y\\33613\\276\\305\\030\\352\\002\\216koP\\236\\356t7R\\311#\\243\\036\\201N)\\207\\303e\\265\\0356\\351\\220\\355c\\231\\021z\\221\\3063]\\256\\271*\\333\\332\\224Q\\333\\200+\\017R\\270\\324\\246\\264\\201l\\345>B\\256\\016;\\037z\\347d\\213W\\214\\2617\\251\\236\\303i\\252\\215\\256^Z\\227]@\\342<`:\\234\\203\\332\\274\\247\\306\\367\\260\\337\\353\\302h\\033ry g\\337sW7E\\024W\\251x\\023O\\266\\273\\320c32\\003\\207\\031n\\3371\\256\\262\\037\\002\\330\\310w\\244\\2212u\\373\\344\\201\\365\\025\\255\\024:.\\215\\033\\214\\211Yzl\\341s[\\332\\026\\277\\366\\370^3\\030H\\320eJ\\322k\\266\\362\\335[\\3034\\t\\270\\206\\310\\003\\2752\\035\\r\\036\\330\\3527)\\3458\\034\\252\\377\\000\\025y\\325\\314\\032\\236\\275}$V\\352\\377\\000fV\\303g\\205?Z\\332\\360\\377\\000\\202\\226\\326\\370_]I\\346\\274|\\242m\\302\\346\\265u\\351\\357\\\"_6\\030F2\\006=j\\365\\244f\\353O\\362\\256\\241\\014\\222.\\010n\\206\\251\\351\\336\\026\\323\\354n[\\312\\265p\\030\\374\\244\\266\\340\\277\\235t\\226\\221\\230f\\021c \\234g\\034\\n\\350~\\312\\211*lQ\\270\\016[\\035\\253\\233\\361\\030\\202i\\214F\\3525n\\233k:+\\t\\333K\\231\\025\\2662\\234\\344\\236\\242\\271K\\373\\033\\211\\267\\355\\274e#\\241P+\\236k7\\271\\272\\026\\327W\\236k\\177t\\036k\\204\\361\\246\\235\\036\\227\\255G\\004LJ\\030\\003s\\333\\346a\\375+\\234\\242\\212+\\323\\374\\007\\243\\245\\306\\227\\005\\334\\322\\260\\215\\203\\250\\031 \\0141\\353]\\335\\335\\325\\256\\235\\246\\311\\005\\274\\254\\331\\004\\273\\364\\374\\005c\\370sD\\237\\\\\\270\\0173\\273\\2279P\\307\\345Q\\364\\256\\352\\346\\343G\\360\\335\\230\\265fY\\030}\\355\\247\\251\\255m\\033W\\264\\274\\262\\016\\211\\263i\\373\\255\\332\\255\\335\\244\\327\\021\\307\\024AZ6\\347p5\\027\\3665\\245\\225\\251H\\263\\346\\036p\\243\\202i\\226\\326\\314\\271f$\\203\\324\\001\\214T\\032\\335\\245\\273\\330\\035\\330\\004\\0208=*\\324v\\366\\376P@>\\357C\\232cZ8\\224\\262\\271%\\273c\\245hG\\005\\251\\267\\347\\207\\356\\303\\256j+\\255Y`\\232(c9\\033r\\304\\327\\225x\\222\\351WS\\373D\\362\\262\\306$\\316\\001\\353]U\\225\\302j\\032\\025\\335\\265\\265\\307\\232\\002\\357\\212U?yk\\217\\213I\\232]\\337i\\276\\226L\\236\\024\\035\\243\\031\\3435\\251\\037\\207lt\\345K\\247T\\214\\236\\2149&\\274\\247\\342c#x\\226\\017,\\345~\\312\\270\\377\\000\\276\\336\\270\\312(\\242\\275\\023\\341\\235\\353\\274w\\3262O\\225P\\262E\\031#\\216\\273\\210\\366\\373\\277\\237\\275ijv\\367\\363\\352\\246\\332)\\334\\306H.\\200\\360\\242\\275SF\\267\\376\\312\\360\\273\\316HIdP\\240\\367\\305y>\\255\\250\\233\\273\\301g\\345\\310\\363G8>v\\362r9\\352+\\272\\322\\244\\0212;;m9\\3343\\301\\256\\237H\\276f\\335\\036A\\nN\\332\\350m\\317\\2307\\016[\\241\\251^\\022\\321\\027\\335\\225\\\\\\362?\\225q~1\\2751X+\\307:\\217\\233\\014\\275>\\225\\263\\242\\334y\\2660\\346Uw*\\0161[\\211\\001LeG\\314z\\324R\\262F\\333\\013\\000I\\315sZ\\244\\202;\\242\\340\\340\\203\\217\\302\\270\\235r\\305/\\214\\210\\374\\356\\344\\032\\316\\360f\\247q\\245\\352\\322i\\355\\267\\354\\361\\270\\004\\026\\354\\177\\247\\025\\324\\353ZT\\226s\\t\\340\\2270\\311\\363\\\"\\236\\237J\\247\\006\\252\\267\\226\\017op\\271\\333\\320\\036\\242\\274\\'\\\\\\272k\\275j\\356C7\\234\\202VH\\233vF\\300N\\334{b\\263\\350\\242\\212\\322\\3205\\001\\245k\\226\\267\\205\\202\\204$\\026+\\235\\241\\224\\2518\\366\\315}\\003\\341\\255\\016\\033\\213\\2576\\341\\201\\317.OV\\253~7\\236\\340\\252\\303fU#T\\302\\014q\\232\\363\\335\\r\\254\\305\\315\\314S\\2067\\014\\370f#\\203\\356+\\261\\265\\267\\333ld\\210\\207T\\357\\355Zv26\\300\\221\\021\\346\\366\\343\\034\\377\\000\\365\\353\\253\\200\\313\\034\\021\\273.\\010\\352\\017j\\261-\\341\\026\\3168\\333\\216\\010\\355^O\\361\\016Ic\\260\\216P\\300\\254\\255\\201\\316k\\245\\360\\302\\315m\\005\\264\\222t\\221\\001\\306zWh\\367lT\\001\\327\\035=MT\\222L\\241rWx\\365\\035+\\233\\324$\\212V\\231\\221X\\345\\260\\304\\372\\326%\\323G\\014Ym\\243\\270\\'\\322\\270->"
     ]
    },
    {
     "data": {
      "text/html": [
       "<b>limit_output extension: Maximum message size of 10000 exceeded with 15675 characters</b>"
      ]
     },
     "metadata": {},
     "output_type": "display_data"
    }
   ],
   "source": [
    "for line in str(image_example(image_string, label)).split(\"\\n\")[:15]:\n",
    "    print(line)\n",
    "print(\"...\")"
   ]
  },
  {
   "cell_type": "code",
   "execution_count": 22,
   "metadata": {
    "ExecuteTime": {
     "end_time": "2021-04-24T12:36:32.621431Z",
     "start_time": "2021-04-24T12:36:32.608473Z"
    }
   },
   "outputs": [],
   "source": [
    "record_file = \"test.tfrecord\"\n",
    "\n",
    "with tf.io.TFRecordWriter(record_file) as writer:\n",
    "    image_string = open(image_path, 'rb').read()\n",
    "    tf_example = image_example(image_string, label)\n",
    "    writer.write(tf_example.SerializeToString())"
   ]
  },
  {
   "cell_type": "code",
   "execution_count": 23,
   "metadata": {
    "ExecuteTime": {
     "end_time": "2021-04-24T12:38:36.362186Z",
     "start_time": "2021-04-24T12:38:36.303820Z"
    }
   },
   "outputs": [],
   "source": [
    "raw_image_dataset = tf.data.TFRecordDataset(\"test.tfrecord\")\n",
    "\n",
    "image_feature_description ={\n",
    "    \"label\": tf.io.FixedLenFeature([], tf.int64),\n",
    "    \"image_raw\": tf.io.FixedLenFeature([], tf.string)\n",
    "}"
   ]
  },
  {
   "cell_type": "code",
   "execution_count": 26,
   "metadata": {
    "ExecuteTime": {
     "end_time": "2021-04-24T12:40:27.575074Z",
     "start_time": "2021-04-24T12:40:27.557995Z"
    }
   },
   "outputs": [],
   "source": [
    "@tf.autograph.experimental.do_not_convert\n",
    "def _parse_image_function(example_proto):\n",
    "    return tf.io.parse_single_example(example_proto, image_feature_description)"
   ]
  },
  {
   "cell_type": "code",
   "execution_count": 27,
   "metadata": {
    "ExecuteTime": {
     "end_time": "2021-04-24T12:40:28.966589Z",
     "start_time": "2021-04-24T12:40:28.948551Z"
    }
   },
   "outputs": [
    {
     "data": {
      "text/plain": [
       "<MapDataset shapes: {image_raw: (), label: ()}, types: {image_raw: tf.string, label: tf.int64}>"
      ]
     },
     "execution_count": 27,
     "metadata": {},
     "output_type": "execute_result"
    }
   ],
   "source": [
    "parsed_image_dataset = raw_image_dataset.map(_parse_image_function)\n",
    "parsed_image_dataset"
   ]
  },
  {
   "cell_type": "code",
   "execution_count": 32,
   "metadata": {
    "ExecuteTime": {
     "end_time": "2021-04-24T12:46:55.832953Z",
     "start_time": "2021-04-24T12:46:55.795952Z"
    }
   },
   "outputs": [
    {
     "data": {
      "image/jpeg": "[encoded data removed]",
      "text/plain": [
       "<IPython.core.display.Image object>"
      ]
     },
     "metadata": {},
     "output_type": "display_data"
    },
    {
     "name": "stdout",
     "output_type": "stream",
     "text": [
      "0\n"
     ]
    }
   ],
   "source": [
    "import IPython.display as display\n",
    "\n",
    "for image_features in parsed_image_dataset:\n",
    "    image_raw = image_features[\"image_raw\"].numpy()\n",
    "    display.display(display.Image(data=image_raw))\n",
    "    print(image_features[\"label\"].numpy())"
   ]
  }
 ],
 "metadata": {
  "hide_input": false,
  "kernelspec": {
   "display_name": "Python 3",
   "language": "python",
   "name": "python3"
  },
  "language_info": {
   "codemirror_mode": {
    "name": "ipython",
    "version": 3
   },
   "file_extension": ".py",
   "mimetype": "text/x-python",
   "name": "python",
   "nbconvert_exporter": "python",
   "pygments_lexer": "ipython3",
   "version": "3.6.10"
  },
  "toc": {
   "base_numbering": 1,
   "nav_menu": {},
   "number_sections": true,
   "sideBar": true,
   "skip_h1_title": false,
   "title_cell": "Table of Contents",
   "title_sidebar": "Contents",
   "toc_cell": false,
   "toc_position": {},
   "toc_section_display": true,
   "toc_window_display": false
  },
  "varInspector": {
   "cols": {
    "lenName": 16,
    "lenType": 16,
    "lenVar": 40
   },
   "kernels_config": {
    "python": {
     "delete_cmd_postfix": "",
     "delete_cmd_prefix": "del ",
     "library": "var_list.py",
     "varRefreshCmd": "print(var_dic_list())"
    },
    "r": {
     "delete_cmd_postfix": ") ",
     "delete_cmd_prefix": "rm(",
     "library": "var_list.r",
     "varRefreshCmd": "cat(var_dic_list()) "
    }
   },
   "types_to_exclude": [
    "module",
    "function",
    "builtin_function_or_method",
    "instance",
    "_Feature"
   ],
   "window_display": false
  }
 },
 "nbformat": 4,
 "nbformat_minor": 4
}
