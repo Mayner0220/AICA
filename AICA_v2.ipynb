{
 "cells": [
  {
   "cell_type": "markdown",
   "metadata": {},
   "source": [
    "### Import libraries"
   ]
  },
  {
   "cell_type": "code",
   "execution_count": null,
   "metadata": {
    "ExecuteTime": {
     "end_time": "2021-04-19T05:30:19.757549Z",
     "start_time": "2021-04-19T05:30:19.743524Z"
    }
   },
   "outputs": [],
   "source": [
    "import os\n",
    "os.environ['TF_CPP_MIN_LOG_LEVEL'] = \"3\""
   ]
  },
  {
   "cell_type": "markdown",
   "metadata": {},
   "source": [
    "To prevent elements such as Tensorflow import logs, perform these tasks."
   ]
  },
  {
   "cell_type": "code",
   "execution_count": null,
   "metadata": {
    "ExecuteTime": {
     "end_time": "2021-04-19T05:30:24.027989Z",
     "start_time": "2021-04-19T05:30:20.313337Z"
    }
   },
   "outputs": [],
   "source": [
    "import sys\n",
    "import glob\n",
    "import pickle\n",
    "import shutil\n",
    "import argparse\n",
    "import tensorflow as tf"
   ]
  },
  {
   "cell_type": "markdown",
   "metadata": {},
   "source": [
    "### Create TFRecord functions"
   ]
  },
  {
   "cell_type": "code",
   "execution_count": null,
   "metadata": {
    "ExecuteTime": {
     "end_time": "2021-04-19T05:30:24.187977Z",
     "start_time": "2021-04-19T05:30:24.173938Z"
    }
   },
   "outputs": [],
   "source": [
    "# int형 feature값 변환\n",
    "def _int64_feature(value):\n",
    "    return tf.train.Feature(int64_list=tf.train.Int64List(value=[value]))"
   ]
  },
  {
   "cell_type": "code",
   "execution_count": null,
   "metadata": {
    "ExecuteTime": {
     "end_time": "2021-04-19T05:30:24.345656Z",
     "start_time": "2021-04-19T05:30:24.331958Z"
    }
   },
   "outputs": [],
   "source": [
    "# byte형태로 변환\n",
    "def _bytes_feature(value):\n",
    "    return tf.train.Feature(bytes_list=tf.train.BytesList(value=[value]))"
   ]
  },
  {
   "cell_type": "code",
   "execution_count": null,
   "metadata": {
    "ExecuteTime": {
     "end_time": "2021-04-19T05:30:24.503531Z",
     "start_time": "2021-04-19T05:30:24.488490Z"
    }
   },
   "outputs": [],
   "source": [
    "# image파일 byte단위로 변환\n",
    "def _read_image_bytes(imagefile):\n",
    "    file = open(imagefile, \"rb\")\n",
    "    bytes = file.read()\n",
    "    return bytes"
   ]
  },
  {
   "cell_type": "code",
   "execution_count": null,
   "metadata": {
    "ExecuteTime": {
     "end_time": "2021-04-19T06:16:04.478068Z",
     "start_time": "2021-04-19T06:16:04.464095Z"
    }
   },
   "outputs": [],
   "source": [
    "# Raw이미지 데이터셋 위치를 입력 받아, TFRecord로 변환하여 반환\n",
    "def convert_to_tfrecord(input_file, output_file, label_form):\n",
    "    image_paths = glob.glob(input_file + \"/*/*/*.jpg\")\n",
    "    \n",
    "    for image_path in image_paths:\n",
    "        image_bytes = _read_image_bytes(image_path)\n",
    "        \n",
    "        # 입력 받은 경로에서 데이터의 타입 및 라벨, 파일명들을 추출\n",
    "        path_information = image_path.split(\"\\\\\")\n",
    "        data_type, label, file_name = map(str, path_information[1:4])\n",
    "        \n",
    "        # tensorflow example 타입으로 변경\n",
    "        tf_example = tf.train.Example(features=tf.train.Features(feature={\n",
    "            \"image\": _bytes_feature(image_bytes),\n",
    "            \"type\": _bytes_feature(bytes(data_type, encoding=\"utf8\")),\n",
    "            \"label_string\": _bytes_feature(bytes(label, encoding=\"utf8\")),\n",
    "            \"label_int\": _int64_feature(label_form[label])\n",
    "        }))\n",
    "        \n",
    "        # train/test 데이터인지에 따라, 디렉토리를 지정 후\n",
    "        # 각 디렉토리 속 파일 갯수에 따라, 파일명을 인덱싱\n",
    "        try:\n",
    "            type_directory = output_file + \"/{0}\".format(data_type)\n",
    "            file_cnt = len(os.listdir(type_directory))\n",
    "            \n",
    "            file_name = type_directory + \"/{0}_{1}_{2}.tfrecord\".format(data_type, label, file_cnt)\n",
    "            \n",
    "            writer = tf.io.TFRecordWriter(file_name)\n",
    "        except:\n",
    "            type_directory = output_file + \"/{0}\".format(data_type)\n",
    "            os.makedirs(os.path.join(type_directory))\n",
    "            file_cnt = len(os.listdir(type_directory))\n",
    "            \n",
    "            file_name = type_directory + \"/{0}_{1}_{2}.tfrecord\".format(data_type, label, file_cnt)\n",
    "            \n",
    "            writer = tf.io.TFRecordWriter(file_name)\n",
    "        \n",
    "        try:\n",
    "            print(\"Start Generating %s\" % file_name)\n",
    "            writer.write(tf_example.SerializeToString())\n",
    "        except:\n",
    "            print(\"Failed generating %s\" % file_name)"
   ]
  },
  {
   "cell_type": "code",
   "execution_count": null,
   "metadata": {
    "ExecuteTime": {
     "end_time": "2021-04-19T06:17:11.712949Z",
     "start_time": "2021-04-19T06:16:04.620638Z"
    }
   },
   "outputs": [],
   "source": [
    "label_form = {\"NonDemented\": 0, \"VeryMildDemented\": 1, \"MildDemented\": 2, \"ModerateDemented\": 3}\n",
    "\n",
    "convert_to_tfrecord(\"./dataset/\", \"./test/\", label_form)"
   ]
  },
  {
   "cell_type": "code",
   "execution_count": null,
   "metadata": {
    "ExecuteTime": {
     "end_time": "2021-04-18T05:20:22.553966Z",
     "start_time": "2021-04-18T05:20:22.517649Z"
    }
   },
   "outputs": [],
   "source": [
    "def _parse_and_decode(self, serialized_example):\n",
    "    image_feature_description = tf.io.parse_single_example({\n",
    "        \"image/encoded\": tf.FixedLenFeature([], tf.string),\n",
    "        \"image/format\": tf.FixedLenFeature([], tf.string),\n",
    "        \"image/class/label\": tf.FixedLenFeature([], tf.int64),\n",
    "        \"image/height\": tf.FixedLenFeature([], tf.int64),\n",
    "        \"image/width\": tf.FixedLenFeature([], tf.int64),\n",
    "    })"
   ]
  }
 ],
 "metadata": {
  "hide_input": false,
  "kernelspec": {
   "display_name": "Python 3",
   "language": "python",
   "name": "python3"
  },
  "language_info": {
   "codemirror_mode": {
    "name": "ipython",
    "version": 3
   },
   "file_extension": ".py",
   "mimetype": "text/x-python",
   "name": "python",
   "nbconvert_exporter": "python",
   "pygments_lexer": "ipython3",
   "version": "3.6.10"
  },
  "toc": {
   "base_numbering": 1,
   "nav_menu": {},
   "number_sections": true,
   "sideBar": true,
   "skip_h1_title": false,
   "title_cell": "Table of Contents",
   "title_sidebar": "Contents",
   "toc_cell": false,
   "toc_position": {},
   "toc_section_display": true,
   "toc_window_display": false
  },
  "varInspector": {
   "cols": {
    "lenName": 16,
    "lenType": 16,
    "lenVar": 40
   },
   "kernels_config": {
    "python": {
     "delete_cmd_postfix": "",
     "delete_cmd_prefix": "del ",
     "library": "var_list.py",
     "varRefreshCmd": "print(var_dic_list())"
    },
    "r": {
     "delete_cmd_postfix": ") ",
     "delete_cmd_prefix": "rm(",
     "library": "var_list.r",
     "varRefreshCmd": "cat(var_dic_list()) "
    }
   },
   "types_to_exclude": [
    "module",
    "function",
    "builtin_function_or_method",
    "instance",
    "_Feature"
   ],
   "window_display": false
  }
 },
 "nbformat": 4,
 "nbformat_minor": 4
}
