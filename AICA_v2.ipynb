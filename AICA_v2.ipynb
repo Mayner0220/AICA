{
 "cells": [
  {
   "cell_type": "markdown",
   "metadata": {},
   "source": [
    "### Import libraries"
   ]
  },
  {
   "cell_type": "code",
   "execution_count": 4,
   "metadata": {
    "ExecuteTime": {
     "end_time": "2021-04-19T05:30:19.757549Z",
     "start_time": "2021-04-19T05:30:19.743524Z"
    }
   },
   "outputs": [],
   "source": [
    "import os\n",
    "os.environ['TF_CPP_MIN_LOG_LEVEL'] = \"3\""
   ]
  },
  {
   "cell_type": "markdown",
   "metadata": {},
   "source": [
    "To prevent elements such as Tensorflow import logs, perform these tasks."
   ]
  },
  {
   "cell_type": "code",
   "execution_count": 5,
   "metadata": {
    "ExecuteTime": {
     "end_time": "2021-04-19T05:30:24.027989Z",
     "start_time": "2021-04-19T05:30:20.313337Z"
    }
   },
   "outputs": [],
   "source": [
    "import sys\n",
    "import glob\n",
    "import pickle\n",
    "import shutil\n",
    "import argparse\n",
    "import tensorflow as tf"
   ]
  },
  {
   "cell_type": "markdown",
   "metadata": {},
   "source": [
    "### Create TFRecord functions"
   ]
  },
  {
   "cell_type": "code",
   "execution_count": 6,
   "metadata": {
    "ExecuteTime": {
     "end_time": "2021-04-19T05:30:24.187977Z",
     "start_time": "2021-04-19T05:30:24.173938Z"
    }
   },
   "outputs": [],
   "source": [
    "# int형 feature값 변환\n",
    "def _int64_feature(value):\n",
    "    return tf.train.Feature(int64_list=tf.train.Int64List(value=[value]))"
   ]
  },
  {
   "cell_type": "code",
   "execution_count": 7,
   "metadata": {
    "ExecuteTime": {
     "end_time": "2021-04-19T05:30:24.345656Z",
     "start_time": "2021-04-19T05:30:24.331958Z"
    }
   },
   "outputs": [],
   "source": [
    "# byte형태로 변환\n",
    "def _bytes_feature(value):\n",
    "    return tf.train.Feature(bytes_list=tf.train.BytesList(value=[value]))"
   ]
  },
  {
   "cell_type": "code",
   "execution_count": 8,
   "metadata": {
    "ExecuteTime": {
     "end_time": "2021-04-19T05:30:24.503531Z",
     "start_time": "2021-04-19T05:30:24.488490Z"
    }
   },
   "outputs": [],
   "source": [
    "# image파일 byte단위로 변환\n",
    "def _read_image_bytes(imagefile):\n",
    "    file = open(imagefile, \"rb\")\n",
    "    bytes = file.read()\n",
    "    return bytes"
   ]
  },
  {
   "cell_type": "code",
   "execution_count": 38,
   "metadata": {
    "ExecuteTime": {
     "end_time": "2021-04-19T06:16:04.478068Z",
     "start_time": "2021-04-19T06:16:04.464095Z"
    }
   },
   "outputs": [],
   "source": [
    "# Raw이미지 데이터셋 위치를 입력 받아, TFRecord로 변환하여 반환\n",
    "def convert_to_tfrecord(input_file, output_file, label_form):\n",
    "    image_paths = glob.glob(input_file + \"/*/*/*.jpg\")\n",
    "    \n",
    "    for image_path in image_paths:\n",
    "        image_bytes = _read_image_bytes(image_path)\n",
    "        \n",
    "        # 입력 받은 경로에서 데이터의 타입 및 라벨, 파일명들을 추출\n",
    "        path_information = image_path.split(\"\\\\\")\n",
    "        data_type, label, file_name = map(str, path_information[1:4])\n",
    "        \n",
    "        # tensorflow example 타입으로 변경\n",
    "        tf_example = tf.train.Example(features=tf.train.Features(feature={\n",
    "            \"image\": _bytes_feature(image_bytes),\n",
    "            \"type\": _bytes_feature(bytes(data_type, encoding=\"utf8\")),\n",
    "            \"label_string\": _bytes_feature(bytes(label, encoding=\"utf8\")),\n",
    "            \"label_int\": _int64_feature(label_form[label])\n",
    "        }))\n",
    "        \n",
    "        # train/test 데이터인지에 따라, 디렉토리를 지정 후\n",
    "        # 각 디렉토리 속 파일 갯수에 따라, 파일명을 인덱싱\n",
    "        try:\n",
    "            type_directory = output_file + \"/{0}\".format(data_type)\n",
    "            file_cnt = len(os.listdir(type_directory))\n",
    "            \n",
    "            file_name = type_directory + \"/{0}_{1}_{2}.tfrecord\".format(data_type, label, file_cnt)\n",
    "            \n",
    "            writer = tf.io.TFRecordWriter(file_name)\n",
    "        except:\n",
    "            type_directory = output_file + \"/{0}\".format(data_type)\n",
    "            os.makedirs(os.path.join(type_directory))\n",
    "            file_cnt = len(os.listdir(type_directory))\n",
    "            \n",
    "            file_name = type_directory + \"/{0}_{1}_{2}.tfrecord\".format(data_type, label, file_cnt)\n",
    "            \n",
    "            writer = tf.io.TFRecordWriter(file_name)\n",
    "        \n",
    "        try:\n",
    "            print(\"Start Generating %s\" % file_name)\n",
    "            writer.write(tf_example.SerializeToString())\n",
    "        except:\n",
    "            print(\"Failed generating %s\" % file_name)"
   ]
  },
  {
   "cell_type": "code",
   "execution_count": 39,
   "metadata": {
    "ExecuteTime": {
     "end_time": "2021-04-19T06:17:11.712949Z",
     "start_time": "2021-04-19T06:16:04.620638Z"
    }
   },
   "outputs": [
    {
     "name": "stdout",
     "output_type": "stream",
     "text": [
      "Start Generating ./test//test/test_MildDemented_0.tfrecord\n",
      "Start Generating ./test//test/test_MildDemented_1.tfrecord\n",
      "Start Generating ./test//test/test_MildDemented_2.tfrecord\n",
      "Start Generating ./test//test/test_MildDemented_3.tfrecord\n",
      "Start Generating ./test//test/test_MildDemented_4.tfrecord\n",
      "Start Generating ./test//test/test_MildDemented_5.tfrecord\n",
      "Start Generating ./test//test/test_MildDemented_6.tfrecord\n",
      "Start Generating ./test//test/test_MildDemented_7.tfrecord\n",
      "Start Generating ./test//test/test_MildDemented_8.tfrecord\n",
      "Start Generating ./test//test/test_MildDemented_9.tfrecord\n",
      "Start Generating ./test//test/test_MildDemented_10.tfrecord\n",
      "Start Generating ./test//test/test_MildDemented_11.tfrecord\n",
      "Start Generating ./test//test/test_MildDemented_12.tfrecord\n",
      "Start Generating ./test//test/test_MildDemented_13.tfrecord\n",
      "Start Generating ./test//test/test_MildDemented_14.tfrecord\n",
      "Start Generating ./test//test/test_MildDemented_15.tfrecord\n",
      "Start Generating ./test//test/test_MildDemented_16.tfrecord\n",
      "Start Generating ./test//test/test_MildDemented_17.tfrecord\n",
      "Start Generating ./test//test/test_MildDemented_18.tfrecord\n",
      "Start Generating ./test//test/test_MildDemented_19.tfrecord\n",
      "Start Generating ./test//test/test_MildDemented_20.tfrecord\n",
      "Start Generating ./test//test/test_MildDemented_21.tfrecord\n",
      "Start Generating ./test//test/test_MildDemented_22.tfrecord\n",
      "Start Generating ./test//test/test_MildDemented_23.tfrecord\n",
      "Start Generating ./test//test/test_MildDemented_24.tfrecord\n",
      "Start Generating ./test//test/test_MildDemented_25.tfrecord\n",
      "Start Generating ./test//test/test_MildDemented_26.tfrecord\n",
      "Start Generating ./test//test/test_MildDemented_27.tfrecord\n",
      "Start Generating ./test//test/test_MildDemented_28.tfrecord\n",
      "Start Generating ./test//test/test_MildDemented_29.tfrecord\n",
      "Start Generating ./test//test/test_MildDemented_30.tfrecord\n",
      "Start Generating ./test//test/test_MildDemented_31.tfrecord\n",
      "Start Generating ./test//test/test_MildDemented_32.tfrecord\n",
      "Start Generating ./test//test/test_MildDemented_33.tfrecord\n",
      "Start Generating ./test//test/test_MildDemented_34.tfrecord\n",
      "Start Generating ./test//test/test_MildDemented_35.tfrecord\n",
      "Start Generating ./test//test/test_MildDemented_36.tfrecord\n",
      "Start Generating ./test//test/test_MildDemented_37.tfrecord\n",
      "Start Generating ./test//test/test_MildDemented_38.tfrecord\n",
      "Start Generating ./test//test/test_MildDemented_39.tfrecord\n",
      "Start Generating ./test//test/test_MildDemented_40.tfrecord\n",
      "Start Generating ./test//test/test_MildDemented_41.tfrecord\n",
      "Start Generating ./test//test/test_MildDemented_42.tfrecord\n",
      "Start Generating ./test//test/test_MildDemented_43.tfrecord\n",
      "Start Generating ./test//test/test_MildDemented_44.tfrecord\n",
      "Start Generating ./test//test/test_MildDemented_45.tfrecord\n",
      "Start Generating ./test//test/test_MildDemented_46.tfrecord\n",
      "Start Generating ./test//test/test_MildDemented_47.tfrecord\n",
      "Start Generating ./test//test/test_MildDemented_48.tfrecord\n",
      "Start Generating ./test//test/test_MildDemented_49.tfrecord\n",
      "Start Generating ./test//test/test_MildDemented_50.tfrecord\n",
      "Start Generating ./test//test/test_MildDemented_51.tfrecord\n",
      "Start Generating ./test//test/test_MildDemented_52.tfrecord\n",
      "Start Generating ./test//test/test_MildDemented_53.tfrecord\n",
      "Start Generating ./test//test/test_MildDemented_54.tfrecord\n",
      "Start Generating ./test//test/test_MildDemented_55.tfrecord\n",
      "Start Generating ./test//test/test_MildDemented_56.tfrecord\n",
      "Start Generating ./test//test/test_MildDemented_57.tfrecord\n",
      "Start Generating ./test//test/test_MildDemented_58.tfrecord\n",
      "Start Generating ./test//test/test_MildDemented_59.tfrecord\n",
      "Start Generating ./test//test/test_MildDemented_60.tfrecord\n",
      "Start Generating ./test//test/test_MildDemented_61.tfrecord\n",
      "Start Generating ./test//test/test_MildDemented_62.tfrecord\n",
      "Start Generating ./test//test/test_MildDemented_63.tfrecord\n",
      "Start Generating ./test//test/test_MildDemented_64.tfrecord\n",
      "Start Generating ./test//test/test_MildDemented_65.tfrecord\n",
      "Start Generating ./test//test/test_MildDemented_66.tfrecord\n",
      "Start Generating ./test//test/test_MildDemented_67.tfrecord\n",
      "Start Generating ./test//test/test_MildDemented_68.tfrecord\n",
      "Start Generating ./test//test/test_MildDemented_69.tfrecord\n",
      "Start Generating ./test//test/test_MildDemented_70.tfrecord\n",
      "Start Generating ./test//test/test_MildDemented_71.tfrecord\n",
      "Start Generating ./test//test/test_MildDemented_72.tfrecord\n",
      "Start Generating ./test//test/test_MildDemented_73.tfrecord\n",
      "Start Generating ./test//test/test_MildDemented_74.tfrecord\n",
      "Start Generating ./test//test/test_MildDemented_75.tfrecord\n",
      "Start Generating ./test//test/test_MildDemented_76.tfrecord\n",
      "Start Generating ./test//test/test_MildDemented_77.tfrecord\n",
      "Start Generating ./test//test/test_MildDemented_78.tfrecord\n",
      "Start Generating ./test//test/test_MildDemented_79.tfrecord\n",
      "Start Generating ./test//test/test_MildDemented_80.tfrecord\n",
      "Start Generating ./test//test/test_MildDemented_81.tfrecord\n",
      "Start Generating ./test//test/test_MildDemented_82.tfrecord\n",
      "Start Generating ./test//test/test_MildDemented_83.tfrecord\n",
      "Start Generating ./test//test/test_MildDemented_84.tfrecord\n",
      "Start Generating ./test//test/test_MildDemented_85.tfrecord\n",
      "Start Generating ./test//test/test_MildDemented_86.tfrecord\n",
      "Start Generating ./test//test/test_MildDemented_87.tfrecord\n",
      "Start Generating ./test//test/test_MildDemented_88.tfrecord\n",
      "Start Generating ./test//test/test_MildDemented_89.tfrecord\n",
      "Start Generating ./test//test/test_MildDemented_90.tfrecord\n",
      "Start Generating ./test//test/test_MildDemented_91.tfrecord\n",
      "Start Generating ./test//test/test_MildDemented_92.tfrecord\n",
      "Start Generating ./test//test/test_MildDemented_93.tfrecord\n",
      "Start Generating ./test//test/test_MildDemented_94.tfrecord\n",
      "Start Generating ./test//test/test_MildDemented_95.tfrecord\n",
      "Start Generating ./test//test/test_MildDemented_96.tfrecord\n",
      "Start Generating ./test//test/test_MildDemented_97.tfrecord\n",
      "Start Generating ./test//test/test_MildDemented_98.tfrecord\n",
      "Start Generating ./test//test/test_MildDemented_99.tfrecord\n",
      "Start Generating ./test//test/test_MildDemented_100.tfrecord\n",
      "Start Generating ./test//test/test_MildDemented_101.tfrecord\n",
      "Start Generating ./test//test/test_MildDemented_102.tfrecord\n",
      "Start Generating ./test//test/test_MildDemented_103.tfrecord\n",
      "Start Generating ./test//test/test_MildDemented_104.tfrecord\n",
      "Start Generating ./test//test/test_MildDemented_105.tfrecord\n",
      "Start Generating ./test//test/test_MildDemented_106.tfrecord\n",
      "Start Generating ./test//test/test_MildDemented_107.tfrecord\n",
      "Start Generating ./test//test/test_MildDemented_108.tfrecord\n",
      "Start Generating ./test//test/test_MildDemented_109.tfrecord\n",
      "Start Generating ./test//test/test_MildDemented_110.tfrecord\n",
      "Start Generating ./test//test/test_MildDemented_111.tfrecord\n",
      "Start Generating ./test//test/test_MildDemented_112.tfrecord\n",
      "Start Generating ./test//test/test_MildDemented_113.tfrecord\n",
      "Start Generating ./test//test/test_MildDemented_114.tfrecord\n",
      "Start Generating ./test//test/test_MildDemented_115.tfrecord\n",
      "Start Generating ./test//test/test_MildDemented_116.tfrecord\n",
      "Start Generating ./test//test/test_MildDemented_117.tfrecord\n",
      "Start Generating ./test//test/test_MildDemented_118.tfrecord\n",
      "Start Generating ./test//test/test_MildDemented_119.tfrecord\n",
      "Start Generating ./test//test/test_MildDemented_120.tfrecord\n",
      "Start Generating ./test//test/test_MildDemented_121.tfrecord\n",
      "Start Generating ./test//test/test_MildDemented_122.tfrecord\n",
      "Start Generating ./test//test/test_MildDemented_123.tfrecord\n",
      "Start Generating ./test//test/test_MildDemented_124.tfrecord\n",
      "Start Generating ./test//test/test_MildDemented_125.tfrecord\n",
      "Start Generating ./test//test/test_MildDemented_126.tfrecord\n",
      "Start Generating ./test//test/test_MildDemented_127.tfrecord\n",
      "Start Generating ./test//test/test_MildDemented_128.tfrecord\n",
      "Start Generating ./test//test/test_MildDemented_129.tfrecord\n",
      "Start Generating ./test//test/test_MildDemented_130.tfrecord\n",
      "Start Generating ./test//test/test_MildDemented_131.tfrecord\n",
      "Start Generating ./test//test/test_MildDemented_132.tfrecord\n",
      "Start Generating ./test//test/test_MildDemented_133.tfrecord\n",
      "Start Generating ./test//test/test_MildDemented_134.tfrecord\n",
      "Start Generating ./test//test/test_MildDemented_135.tfrecord\n",
      "Start Generating ./test//test/test_MildDemented_136.tfrecord\n"
     ]
    },
    {
     "name": "stdout",
     "output_type": "stream",
     "text": [
      "Start Generating ./test//test/test_MildDemented_137.tfrecord\n",
      "Start Generating ./test//test/test_MildDemented_138.tfrecord\n",
      "Start Generating ./test//test/test_MildDemented_139.tfrecord\n",
      "Start Generating ./test//test/test_MildDemented_140.tfrecord\n",
      "Start Generating ./test//test/test_MildDemented_141.tfrecord\n",
      "Start Generating ./test//test/test_MildDemented_142.tfrecord\n",
      "Start Generating ./test//test/test_MildDemented_143.tfrecord\n",
      "Start Generating ./test//test/test_MildDemented_144.tfrecord\n",
      "Start Generating ./test//test/test_MildDemented_145.tfrecord\n",
      "Start Generating ./test//test/test_MildDemented_146.tfrecord\n",
      "Start Generating ./test//test/test_MildDemented_147.tfrecord\n",
      "Start Generating ./test//test/test_MildDemented_148.tfrecord\n",
      "Start Generating ./test//test/test_MildDemented_149.tfrecord\n",
      "Start Generating ./test//test/test_MildDemented_150.tfrecord\n",
      "Start Generating ./test//test/test_MildDemented_151.tfrecord\n",
      "Start Generating ./test//test/test_MildDemented_152.tfrecord\n",
      "Start Generating ./test//test/test_MildDemented_153.tfrecord\n",
      "Start Generating ./test//test/test_MildDemented_154.tfrecord\n",
      "Start Generating ./test//test/test_MildDemented_155.tfrecord\n",
      "Start Generating ./test//test/test_MildDemented_156.tfrecord\n",
      "Start Generating ./test//test/test_MildDemented_157.tfrecord\n",
      "Start Generating ./test//test/test_MildDemented_158.tfrecord\n",
      "Start Generating ./test//test/test_MildDemented_159.tfrecord\n",
      "Start Generating ./test//test/test_MildDemented_160.tfrecord\n",
      "Start Generating ./test//test/test_MildDemented_161.tfrecord\n",
      "Start Generating ./test//test/test_MildDemented_162.tfrecord\n",
      "Start Generating ./test//test/test_MildDemented_163.tfrecord\n",
      "Start Generating ./test//test/test_MildDemented_164.tfrecord\n",
      "Start Generating ./test//test/test_MildDement"
     ]
    },
    {
     "data": {
      "text/html": [
       "<b>limit_output extension: Maximum message size of 10000 exceeded with 10198 characters</b>"
      ]
     },
     "metadata": {},
     "output_type": "display_data"
    },
    {
     "ename": "KeyboardInterrupt",
     "evalue": "",
     "output_type": "error",
     "traceback": [
      "\u001b[1;31m---------------------------------------------------------------------------\u001b[0m",
      "\u001b[1;31mKeyboardInterrupt\u001b[0m                         Traceback (most recent call last)",
      "\u001b[1;32m<ipython-input-39-d03f1a47493d>\u001b[0m in \u001b[0;36m<module>\u001b[1;34m\u001b[0m\n\u001b[0;32m      1\u001b[0m \u001b[0mlabel_form\u001b[0m \u001b[1;33m=\u001b[0m \u001b[1;33m{\u001b[0m\u001b[1;34m\"NonDemented\"\u001b[0m\u001b[1;33m:\u001b[0m \u001b[1;36m0\u001b[0m\u001b[1;33m,\u001b[0m \u001b[1;34m\"VeryMildDemented\"\u001b[0m\u001b[1;33m:\u001b[0m \u001b[1;36m1\u001b[0m\u001b[1;33m,\u001b[0m \u001b[1;34m\"MildDemented\"\u001b[0m\u001b[1;33m:\u001b[0m \u001b[1;36m2\u001b[0m\u001b[1;33m,\u001b[0m \u001b[1;34m\"ModerateDemented\"\u001b[0m\u001b[1;33m:\u001b[0m \u001b[1;36m3\u001b[0m\u001b[1;33m}\u001b[0m\u001b[1;33m\u001b[0m\u001b[1;33m\u001b[0m\u001b[0m\n\u001b[0;32m      2\u001b[0m \u001b[1;33m\u001b[0m\u001b[0m\n\u001b[1;32m----> 3\u001b[1;33m \u001b[0mconvert_to_tfrecord\u001b[0m\u001b[1;33m(\u001b[0m\u001b[1;34m\"./dataset/\"\u001b[0m\u001b[1;33m,\u001b[0m \u001b[1;34m\"./test/\"\u001b[0m\u001b[1;33m,\u001b[0m \u001b[0mlabel_form\u001b[0m\u001b[1;33m)\u001b[0m\u001b[1;33m\u001b[0m\u001b[1;33m\u001b[0m\u001b[0m\n\u001b[0m",
      "\u001b[1;32m<ipython-input-38-3c1d6d2950b3>\u001b[0m in \u001b[0;36mconvert_to_tfrecord\u001b[1;34m(input_file, output_file, label_form)\u001b[0m\n\u001b[0;32m      4\u001b[0m \u001b[1;33m\u001b[0m\u001b[0m\n\u001b[0;32m      5\u001b[0m     \u001b[1;32mfor\u001b[0m \u001b[0mimage_path\u001b[0m \u001b[1;32min\u001b[0m \u001b[0mimage_paths\u001b[0m\u001b[1;33m:\u001b[0m\u001b[1;33m\u001b[0m\u001b[1;33m\u001b[0m\u001b[0m\n\u001b[1;32m----> 6\u001b[1;33m         \u001b[0mimage_bytes\u001b[0m \u001b[1;33m=\u001b[0m \u001b[0m_read_image_bytes\u001b[0m\u001b[1;33m(\u001b[0m\u001b[0mimage_path\u001b[0m\u001b[1;33m)\u001b[0m\u001b[1;33m\u001b[0m\u001b[1;33m\u001b[0m\u001b[0m\n\u001b[0m\u001b[0;32m      7\u001b[0m \u001b[1;33m\u001b[0m\u001b[0m\n\u001b[0;32m      8\u001b[0m         \u001b[1;31m# 입력 받은 경로에서 데이터의 타입 및 라벨, 파일명들을 추출\u001b[0m\u001b[1;33m\u001b[0m\u001b[1;33m\u001b[0m\u001b[1;33m\u001b[0m\u001b[0m\n",
      "\u001b[1;32m<ipython-input-8-124a727a66da>\u001b[0m in \u001b[0;36m_read_image_bytes\u001b[1;34m(imagefile)\u001b[0m\n\u001b[0;32m      1\u001b[0m \u001b[1;31m# image파일 byte단위로 변환\u001b[0m\u001b[1;33m\u001b[0m\u001b[1;33m\u001b[0m\u001b[1;33m\u001b[0m\u001b[0m\n\u001b[0;32m      2\u001b[0m \u001b[1;32mdef\u001b[0m \u001b[0m_read_image_bytes\u001b[0m\u001b[1;33m(\u001b[0m\u001b[0mimagefile\u001b[0m\u001b[1;33m)\u001b[0m\u001b[1;33m:\u001b[0m\u001b[1;33m\u001b[0m\u001b[1;33m\u001b[0m\u001b[0m\n\u001b[1;32m----> 3\u001b[1;33m     \u001b[0mfile\u001b[0m \u001b[1;33m=\u001b[0m \u001b[0mopen\u001b[0m\u001b[1;33m(\u001b[0m\u001b[0mimagefile\u001b[0m\u001b[1;33m,\u001b[0m \u001b[1;34m\"rb\"\u001b[0m\u001b[1;33m)\u001b[0m\u001b[1;33m\u001b[0m\u001b[1;33m\u001b[0m\u001b[0m\n\u001b[0m\u001b[0;32m      4\u001b[0m     \u001b[0mbytes\u001b[0m \u001b[1;33m=\u001b[0m \u001b[0mfile\u001b[0m\u001b[1;33m.\u001b[0m\u001b[0mread\u001b[0m\u001b[1;33m(\u001b[0m\u001b[1;33m)\u001b[0m\u001b[1;33m\u001b[0m\u001b[1;33m\u001b[0m\u001b[0m\n\u001b[0;32m      5\u001b[0m     \u001b[1;32mreturn\u001b[0m \u001b[0mbytes\u001b[0m\u001b[1;33m\u001b[0m\u001b[1;33m\u001b[0m\u001b[0m\n",
      "\u001b[1;31mKeyboardInterrupt\u001b[0m: "
     ]
    }
   ],
   "source": [
    "label_form = {\"NonDemented\": 0, \"VeryMildDemented\": 1, \"MildDemented\": 2, \"ModerateDemented\": 3}\n",
    "\n",
    "convert_to_tfrecord(\"./dataset/\", \"./test/\", label_form)"
   ]
  },
  {
   "cell_type": "code",
   "execution_count": null,
   "metadata": {
    "ExecuteTime": {
     "end_time": "2021-04-18T05:20:22.553966Z",
     "start_time": "2021-04-18T05:20:22.517649Z"
    }
   },
   "outputs": [],
   "source": [
    "def _parse_and_decode(self, serialized_example):\n",
    "    image_feature_description = tf.io.parse_single_example({\n",
    "        \"image/encoded\": tf.FixedLenFeature([], tf.string),\n",
    "        \"image/format\": tf.FixedLenFeature([], tf.string),\n",
    "        \"image/class/label\": tf.FixedLenFeature([], tf.int64),\n",
    "        \"image/height\": tf.FixedLenFeature([], tf.int64),\n",
    "        \"image/width\": tf.FixedLenFeature([], tf.int64),\n",
    "    })"
   ]
  }
 ],
 "metadata": {
  "hide_input": false,
  "kernelspec": {
   "display_name": "Python 3",
   "language": "python",
   "name": "python3"
  },
  "language_info": {
   "codemirror_mode": {
    "name": "ipython",
    "version": 3
   },
   "file_extension": ".py",
   "mimetype": "text/x-python",
   "name": "python",
   "nbconvert_exporter": "python",
   "pygments_lexer": "ipython3",
   "version": "3.6.10"
  },
  "toc": {
   "base_numbering": 1,
   "nav_menu": {},
   "number_sections": true,
   "sideBar": true,
   "skip_h1_title": false,
   "title_cell": "Table of Contents",
   "title_sidebar": "Contents",
   "toc_cell": false,
   "toc_position": {},
   "toc_section_display": true,
   "toc_window_display": false
  },
  "varInspector": {
   "cols": {
    "lenName": 16,
    "lenType": 16,
    "lenVar": 40
   },
   "kernels_config": {
    "python": {
     "delete_cmd_postfix": "",
     "delete_cmd_prefix": "del ",
     "library": "var_list.py",
     "varRefreshCmd": "print(var_dic_list())"
    },
    "r": {
     "delete_cmd_postfix": ") ",
     "delete_cmd_prefix": "rm(",
     "library": "var_list.r",
     "varRefreshCmd": "cat(var_dic_list()) "
    }
   },
   "types_to_exclude": [
    "module",
    "function",
    "builtin_function_or_method",
    "instance",
    "_Feature"
   ],
   "window_display": false
  }
 },
 "nbformat": 4,
 "nbformat_minor": 4
}
