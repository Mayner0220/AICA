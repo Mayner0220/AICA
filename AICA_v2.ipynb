{
 "cells": [
  {
   "cell_type": "markdown",
   "metadata": {},
   "source": [
    "### Import libraries"
   ]
  },
  {
   "cell_type": "code",
   "execution_count": 1,
   "metadata": {
    "ExecuteTime": {
     "end_time": "2021-04-27T02:14:33.854948Z",
     "start_time": "2021-04-27T02:14:33.844998Z"
    }
   },
   "outputs": [],
   "source": [
    "import os\n",
    "os.environ['TF_CPP_MIN_LOG_LEVEL'] = \"3\""
   ]
  },
  {
   "cell_type": "markdown",
   "metadata": {},
   "source": [
    "To prevent elements such as Tensorflow import logs, perform these tasks."
   ]
  },
  {
   "cell_type": "code",
   "execution_count": 2,
   "metadata": {
    "ExecuteTime": {
     "end_time": "2021-04-27T02:14:37.052499Z",
     "start_time": "2021-04-27T02:14:34.158805Z"
    }
   },
   "outputs": [],
   "source": [
    "import glob\n",
    "import numpy as np\n",
    "import tensorflow as tf\n",
    "import IPython.display as display"
   ]
  },
  {
   "cell_type": "markdown",
   "metadata": {},
   "source": [
    "### Convert raw files to TFRecord"
   ]
  },
  {
   "cell_type": "code",
   "execution_count": 3,
   "metadata": {
    "ExecuteTime": {
     "end_time": "2021-04-27T02:14:37.178860Z",
     "start_time": "2021-04-27T02:14:37.165500Z"
    },
    "code_folding": [
     0
    ]
   },
   "outputs": [],
   "source": [
    "def _bytes_feature(value: [str, bytes]) -> tf.train.Feature:\n",
    "    \"\"\"string / byte를 byte_list로 반환합니다.\"\"\"\n",
    "    if isinstance(value, type(tf.constant(0))):\n",
    "        value = value.numpy() # BytesList는 EagerTensor에서 문자열을 풀지 않습니다.\n",
    "    \n",
    "    return tf.train.Feature(bytes_list=tf.train.BytesList(value=[value]))"
   ]
  },
  {
   "cell_type": "code",
   "execution_count": 4,
   "metadata": {
    "ExecuteTime": {
     "end_time": "2021-04-27T02:14:37.305277Z",
     "start_time": "2021-04-27T02:14:37.291430Z"
    },
    "code_folding": [
     0
    ]
   },
   "outputs": [],
   "source": [
    "def _float_feature(value: float) -> tf.train.Feature:\n",
    "    \"\"\"float / double를 float_list로 반환합니다.\"\"\"\n",
    "    return tf.train.Feature(float_list=tf.train.FloatList(value=[value]))"
   ]
  },
  {
   "cell_type": "code",
   "execution_count": 5,
   "metadata": {
    "ExecuteTime": {
     "end_time": "2021-04-27T02:14:37.432156Z",
     "start_time": "2021-04-27T02:14:37.417916Z"
    },
    "code_folding": [
     0
    ]
   },
   "outputs": [],
   "source": [
    "def _int64_feature(value: [bool, int]) -> tf.train.Feature:\n",
    "    \"\"\"bool / enum / int / uint를 int64_list로 반환합니다.\"\"\"\n",
    "    return tf.train.Feature(int64_list=tf.train.Int64List(value=[value]))"
   ]
  },
  {
   "cell_type": "code",
   "execution_count": 6,
   "metadata": {
    "ExecuteTime": {
     "end_time": "2021-04-27T02:14:38.400596Z",
     "start_time": "2021-04-27T02:14:38.385596Z"
    },
    "code_folding": []
   },
   "outputs": [],
   "source": [
    "def serialize_example(image: bytes, label: int) -> tf.train.Example.SerializeToString:\n",
    "    \"\"\"\n",
    "    파일을 만들기 위해서 tf.train.Example 메시지를 만듭니다.\n",
    "    \"\"\"\n",
    "    feature = {\n",
    "        \"raw_image\": _bytes_feature(image),\n",
    "        \"label\": _int64_feature(label),\n",
    "    }\n",
    "    \n",
    "    return tf.train.Example(features=tf.train.Features(feature=feature))"
   ]
  },
  {
   "cell_type": "code",
   "execution_count": 15,
   "metadata": {
    "ExecuteTime": {
     "end_time": "2021-04-27T02:16:31.955854Z",
     "start_time": "2021-04-27T02:16:31.940341Z"
    },
    "code_folding": []
   },
   "outputs": [],
   "source": [
    "def write_tfrecord(main_path: str) -> None:\n",
    "    \"\"\"\n",
    "    datset의 위치를 입력 받아, 이미지와 라벨 등을 구하여 반환한다.\n",
    "    \"\"\"\n",
    "    train_paths = glob.glob(main_path + \"/train/*/*.jpg\")\n",
    "    test_paths = glob.glob(main_path + \"/test/*/*.jpg\")\n",
    "    image_labels = {\"NonDemented\": 0, \"VeryMildDemented\": 1, \"MildDemented\": 2, \"ModerateDemented\": 3}\n",
    "    train_file = \"./tfrecord/train.tfrecord\"\n",
    "    test_file = \"./tfrecord/test.tfrecord\"\n",
    "    \n",
    "    # train TFRecord file\n",
    "    with tf.io.TFRecordWriter(train_file) as writer:\n",
    "        for path in train_paths:\n",
    "            image_string = open(path, \"rb\").read()\n",
    "            \n",
    "            label_str = path.split(\"\\\\\")[1]\n",
    "            label = image_labels[label_str]\n",
    "            \n",
    "            tf_example = serialize_example(image_string, label)\n",
    "            writer.write(tf_example.SerializeToString())\n",
    "        \n",
    "        print(\"Train TFRecord Converting Done!\")\n",
    "    \n",
    "    # test TFRecord file\n",
    "    with tf.io.TFRecordWriter(test_file) as writer:\n",
    "        for path in test_paths:\n",
    "            image_string = open(path, \"rb\").read()\n",
    "            \n",
    "            label_str = path.split(\"\\\\\")[1]\n",
    "            label = image_labels[label_str]\n",
    "            \n",
    "            tf_example = serialize_example(image_string, label)\n",
    "            writer.write(tf_example.SerializeToString())\n",
    "        \n",
    "        print(\"Test TFRecord Converting Done!\")"
   ]
  },
  {
   "cell_type": "code",
   "execution_count": 16,
   "metadata": {
    "ExecuteTime": {
     "end_time": "2021-04-27T02:16:37.561597Z",
     "start_time": "2021-04-27T02:16:32.544915Z"
    }
   },
   "outputs": [
    {
     "name": "stdout",
     "output_type": "stream",
     "text": [
      "Train TFRecord Converting Done!\n",
      "Test TFRecord Converting Done!\n"
     ]
    }
   ],
   "source": [
    "dataset_path = \"./dataset\"\n",
    "write_tfrecord(dataset_path)"
   ]
  },
  {
   "cell_type": "markdown",
   "metadata": {},
   "source": [
    "### Read TFRecord file"
   ]
  },
  {
   "cell_type": "code",
   "execution_count": null,
   "metadata": {
    "ExecuteTime": {
     "end_time": "2021-04-27T01:59:50.320822Z",
     "start_time": "2021-04-27T01:59:50.258009Z"
    }
   },
   "outputs": [],
   "source": [
    "train_dataset = tf.data.TFRecordDataset(\"./tfrecord/train.tfrecord\")\n",
    "test_dataset = tf.data.TFRecordDataset(\"./tfrecord/test.tfrecord\")"
   ]
  },
  {
   "cell_type": "code",
   "execution_count": null,
   "metadata": {
    "ExecuteTime": {
     "end_time": "2021-04-27T01:59:52.187552Z",
     "start_time": "2021-04-27T01:59:52.182556Z"
    }
   },
   "outputs": [],
   "source": [
    "image_feature_description = {\n",
    "    \"raw_image\": tf.io.FixedLenFeature([], tf.string),\n",
    "    \"label\": tf.io.FixedLenFeature([], tf.int64),\n",
    "}"
   ]
  },
  {
   "cell_type": "code",
   "execution_count": null,
   "metadata": {
    "ExecuteTime": {
     "end_time": "2021-04-27T01:59:52.768477Z",
     "start_time": "2021-04-27T01:59:52.757884Z"
    }
   },
   "outputs": [],
   "source": [
    "@tf.autograph.experimental.do_not_convert\n",
    "def _parse_image_function(example_proto):\n",
    "    return tf.io.parse_single_example(example_proto, image_feature_description)"
   ]
  },
  {
   "cell_type": "code",
   "execution_count": null,
   "metadata": {
    "ExecuteTime": {
     "end_time": "2021-04-27T01:59:54.063985Z",
     "start_time": "2021-04-27T01:59:54.033439Z"
    }
   },
   "outputs": [],
   "source": [
    "parsed_train_dataset = train_dataset.map(_parse_image_function)\n",
    "parsed_test_dataset = test_dataset.map(_parse_image_function)\n",
    "\n",
    "print(parsed_train_dataset)\n",
    "print(parsed_test_dataset)"
   ]
  },
  {
   "cell_type": "markdown",
   "metadata": {},
   "source": [
    "### Visualize dataset"
   ]
  },
  {
   "cell_type": "code",
   "execution_count": null,
   "metadata": {
    "ExecuteTime": {
     "end_time": "2021-04-27T01:59:57.417389Z",
     "start_time": "2021-04-27T01:59:57.385323Z"
    }
   },
   "outputs": [],
   "source": [
    "# train TFRecord\n",
    "for image_features in parsed_train_dataset:\n",
    "    image_raw = image_features[\"raw_image\"].numpy()\n",
    "    image_label = image_features[\"label\"].numpy()\n",
    "    display.display(display.Image(data=image_raw))\n",
    "    print(\"Label: \", image_label)"
   ]
  },
  {
   "cell_type": "code",
   "execution_count": null,
   "metadata": {
    "ExecuteTime": {
     "end_time": "2021-04-27T02:01:35.809679Z",
     "start_time": "2021-04-27T02:01:35.781641Z"
    }
   },
   "outputs": [],
   "source": [
    "# test TFRecord\n",
    "for image_features in parsed_test_dataset:\n",
    "    image_raw = image_features[\"raw_image\"].numpy()\n",
    "    \n",
    "    display.display(display.Image(data=image_raw))"
   ]
  }
 ],
 "metadata": {
  "hide_input": false,
  "kernelspec": {
   "display_name": "Python 3",
   "language": "python",
   "name": "python3"
  },
  "language_info": {
   "codemirror_mode": {
    "name": "ipython",
    "version": 3
   },
   "file_extension": ".py",
   "mimetype": "text/x-python",
   "name": "python",
   "nbconvert_exporter": "python",
   "pygments_lexer": "ipython3",
   "version": "3.6.10"
  },
  "toc": {
   "base_numbering": 1,
   "nav_menu": {},
   "number_sections": true,
   "sideBar": true,
   "skip_h1_title": false,
   "title_cell": "Table of Contents",
   "title_sidebar": "Contents",
   "toc_cell": false,
   "toc_position": {},
   "toc_section_display": true,
   "toc_window_display": false
  },
  "varInspector": {
   "cols": {
    "lenName": 16,
    "lenType": 16,
    "lenVar": 40
   },
   "kernels_config": {
    "python": {
     "delete_cmd_postfix": "",
     "delete_cmd_prefix": "del ",
     "library": "var_list.py",
     "varRefreshCmd": "print(var_dic_list())"
    },
    "r": {
     "delete_cmd_postfix": ") ",
     "delete_cmd_prefix": "rm(",
     "library": "var_list.r",
     "varRefreshCmd": "cat(var_dic_list()) "
    }
   },
   "types_to_exclude": [
    "module",
    "function",
    "builtin_function_or_method",
    "instance",
    "_Feature"
   ],
   "window_display": false
  }
 },
 "nbformat": 4,
 "nbformat_minor": 4
}
