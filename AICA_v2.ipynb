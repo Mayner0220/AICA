{
 "cells": [
  {
   "cell_type": "markdown",
   "metadata": {},
   "source": [
    "### Import libraries"
   ]
  },
  {
   "cell_type": "code",
   "execution_count": 1,
   "metadata": {
    "ExecuteTime": {
     "end_time": "2021-04-26T06:25:27.826533Z",
     "start_time": "2021-04-26T06:25:27.821534Z"
    }
   },
   "outputs": [],
   "source": [
    "import os\n",
    "os.environ['TF_CPP_MIN_LOG_LEVEL'] = \"3\""
   ]
  },
  {
   "cell_type": "markdown",
   "metadata": {},
   "source": [
    "To prevent elements such as Tensorflow import logs, perform these tasks."
   ]
  },
  {
   "cell_type": "code",
   "execution_count": 2,
   "metadata": {
    "ExecuteTime": {
     "end_time": "2021-04-26T06:25:30.918138Z",
     "start_time": "2021-04-26T06:25:27.827561Z"
    }
   },
   "outputs": [],
   "source": [
    "import glob\n",
    "import numpy as np\n",
    "import tensorflow as tf\n",
    "import IPython.display as display"
   ]
  },
  {
   "cell_type": "markdown",
   "metadata": {},
   "source": [
    "### Convert raw files to TFRecord"
   ]
  },
  {
   "cell_type": "code",
   "execution_count": 3,
   "metadata": {
    "ExecuteTime": {
     "end_time": "2021-04-26T06:25:30.934148Z",
     "start_time": "2021-04-26T06:25:30.919134Z"
    }
   },
   "outputs": [],
   "source": [
    "def _bytes_feature(value: [str, bytes]) -> tf.train.Feature:\n",
    "    \"\"\"string / byte를 byte_list로 반환합니다.\"\"\"\n",
    "    if isinstance(value, type(tf.constant(0))):\n",
    "        value = value.numpy() # BytesList는 EagerTensor에서 문자열을 풀지 않습니다.\n",
    "    \n",
    "    return tf.train.Feature(bytes_list=tf.train.BytesList(value=[value]))"
   ]
  },
  {
   "cell_type": "code",
   "execution_count": 4,
   "metadata": {
    "ExecuteTime": {
     "end_time": "2021-04-26T06:25:30.950133Z",
     "start_time": "2021-04-26T06:25:30.937144Z"
    }
   },
   "outputs": [],
   "source": [
    "def _float_feature(value: float) -> tf.train.Feature:\n",
    "    \"\"\"float / double를 float_list로 반환합니다.\"\"\"\n",
    "    return tf.train.Feature(float_list=tf.train.FloatList(value=[value]))"
   ]
  },
  {
   "cell_type": "code",
   "execution_count": 5,
   "metadata": {
    "ExecuteTime": {
     "end_time": "2021-04-26T06:25:30.966138Z",
     "start_time": "2021-04-26T06:25:30.951135Z"
    }
   },
   "outputs": [],
   "source": [
    "def _int64_feature(value: [bool, int]) -> tf.train.Feature:\n",
    "    \"\"\"bool / enum / int / uint를 int64_list로 반환합니다.\"\"\"\n",
    "    return tf.train.Feature(int64_list=tf.train.Int64List(value=[value]))"
   ]
  },
  {
   "cell_type": "code",
   "execution_count": 6,
   "metadata": {
    "ExecuteTime": {
     "end_time": "2021-04-26T06:25:30.982133Z",
     "start_time": "2021-04-26T06:25:30.967135Z"
    }
   },
   "outputs": [],
   "source": [
    "def _image_to_byte(path: str) -> bytes:\n",
    "    \"\"\"image를 bytes로 반환합니다.\"\"\"\n",
    "    return open(path, \"rb\").read() "
   ]
  },
  {
   "cell_type": "code",
   "execution_count": 7,
   "metadata": {
    "ExecuteTime": {
     "end_time": "2021-04-26T06:25:30.997539Z",
     "start_time": "2021-04-26T06:25:30.983134Z"
    }
   },
   "outputs": [],
   "source": [
    "def serialize_example(image: bytes, label: int, group: bool) -> tf.train.Example.SerializeToString:\n",
    "    \"\"\"\n",
    "    파일을 만들기 위해서 tf.train.Example 메시지를 만듭니다.\n",
    "    \"\"\"\n",
    "    feature = {\n",
    "        \"raw_image\": _bytes_feature(image),\n",
    "        \"label\": _int64_feature(label),\n",
    "        \"group\": _int64_feature(group),\n",
    "    }\n",
    "    \n",
    "    example_proto = tf.train.Example(features=tf.train.Features(feature=feature))\n",
    "    return example_proto.SerializeToString()"
   ]
  },
  {
   "cell_type": "code",
   "execution_count": 24,
   "metadata": {
    "ExecuteTime": {
     "end_time": "2021-04-26T06:34:04.549755Z",
     "start_time": "2021-04-26T06:34:04.532788Z"
    }
   },
   "outputs": [],
   "source": [
    "def write_tfrecord(main_path: str) -> None:\n",
    "    \"\"\"\n",
    "    datset의 위치를 입력 받아, 이미지와 라벨 등을 구하여 반환한다.\n",
    "    \"\"\"\n",
    "    paths = glob.glob(main_path + \"/*/*/*.jpg\")\n",
    "    image_labels = {\"NonDemented\": 0, \"VeryMildDemented\": 1, \"MildDemented\": 2, \"ModerateDemented\": 3}\n",
    "    groups = {\"train\": 0, \"test\": 1}\n",
    "    \n",
    "    for path in paths:\n",
    "        group, label = path.split(\"\\\\\")[1:3]\n",
    "        \n",
    "        image = _image_to_byte(path)\n",
    "        label_int = image_labels[label]\n",
    "        group_int = groups[group]\n",
    "        group_dir = \"./tfrecord/\" + group\n",
    "        \n",
    "        if not os.path.isdir(group_dir):\n",
    "            os.makedirs(group_dir)\n",
    "\n",
    "        file_cnt = len(os.listdir(group_dir))\n",
    "        file_name = group_dir + \"/{0}_{1}_{2}.tfrecord\".format(group, label, str(file_cnt+1).zfill(4))\n",
    "        \n",
    "        with tf.io.TFRecordWriter(file_name) as writer:\n",
    "            try:\n",
    "                example = serialize_example(image, label_int, group_int)\n",
    "                writer.write(example)\n",
    "                \n",
    "                print(\"Converting... %s\" % file_name)\n",
    "            except:\n",
    "                print(\"Converting Failed... %s\" % file_name)\n",
    "                pass\n",
    "        \n",
    "    print(\"Done!\")"
   ]
  },
  {
   "cell_type": "code",
   "execution_count": 25,
   "metadata": {
    "ExecuteTime": {
     "end_time": "2021-04-26T06:35:04.228346Z",
     "start_time": "2021-04-26T06:34:04.917221Z"
    },
    "collapsed": true
   },
   "outputs": [
    {
     "name": "stdout",
     "output_type": "stream",
     "text": [
      "Converting... ./tfrecord/test/test_MildDemented_0001.tfrecord\n",
      "Converting... ./tfrecord/test/test_MildDemented_0002.tfrecord\n",
      "Converting... ./tfrecord/test/test_MildDemented_0003.tfrecord\n",
      "Converting... ./tfrecord/test/test_MildDemented_0004.tfrecord\n",
      "Converting... ./tfrecord/test/test_MildDemented_0005.tfrecord\n",
      "Converting... ./tfrecord/test/test_MildDemented_0006.tfrecord\n",
      "Converting... ./tfrecord/test/test_MildDemented_0007.tfrecord\n",
      "Converting... ./tfrecord/test/test_MildDemented_0008.tfrecord\n",
      "Converting... ./tfrecord/test/test_MildDemented_0009.tfrecord\n",
      "Converting... ./tfrecord/test/test_MildDemented_0010.tfrecord\n",
      "Converting... ./tfrecord/test/test_MildDemented_0011.tfrecord\n",
      "Converting... ./tfrecord/test/test_MildDemented_0012.tfrecord\n",
      "Converting... ./tfrecord/test/test_MildDemented_0013.tfrecord\n",
      "Converting... ./tfrecord/test/test_MildDemented_0014.tfrecord\n",
      "Converting... ./tfrecord/test/test_MildDemented_0015.tfrecord\n",
      "Converting... ./tfrecord/test/test_MildDemented_0016.tfrecord\n",
      "Converting... ./tfrecord/test/test_MildDemented_0017.tfrecord\n",
      "Converting... ./tfrecord/test/test_MildDemented_0018.tfrecord\n",
      "Converting... ./tfrecord/test/test_MildDemented_0019.tfrecord\n",
      "Converting... ./tfrecord/test/test_MildDemented_0020.tfrecord\n",
      "Converting... ./tfrecord/test/test_MildDemented_0021.tfrecord\n",
      "Converting... ./tfrecord/test/test_MildDemented_0022.tfrecord\n",
      "Converting... ./tfrecord/test/test_MildDemented_0023.tfrecord\n",
      "Converting... ./tfrecord/test/test_MildDemented_0024.tfrecord\n",
      "Converting... ./tfrecord/test/test_MildDemented_0025.tfrecord\n",
      "Converting... ./tfrecord/test/test_MildDemented_0026.tfrecord\n",
      "Converting... ./tfrecord/test/test_MildDemented_0027.tfrecord\n",
      "Converting... ./tfrecord/test/test_MildDemented_0028.tfrecord\n",
      "Converting... ./tfrecord/test/test_MildDemented_0029.tfrecord\n",
      "Converting... ./tfrecord/test/test_MildDemented_0030.tfrecord\n",
      "Converting... ./tfrecord/test/test_MildDemented_0031.tfrecord\n",
      "Converting... ./tfrecord/test/test_MildDemented_0032.tfrecord\n",
      "Converting... ./tfrecord/test/test_MildDemented_0033.tfrecord\n",
      "Converting... ./tfrecord/test/test_MildDemented_0034.tfrecord\n",
      "Converting... ./tfrecord/test/test_MildDemented_0035.tfrecord\n",
      "Converting... ./tfrecord/test/test_MildDemented_0036.tfrecord\n",
      "Converting... ./tfrecord/test/test_MildDemented_0037.tfrecord\n",
      "Converting... ./tfrecord/test/test_MildDemented_0038.tfrecord\n",
      "Converting... ./tfrecord/test/test_MildDemented_0039.tfrecord\n",
      "Converting... ./tfrecord/test/test_MildDemented_0040.tfrecord\n",
      "Converting... ./tfrecord/test/test_MildDemented_0041.tfrecord\n",
      "Converting... ./tfrecord/test/test_MildDemented_0042.tfrecord\n",
      "Converting... ./tfrecord/test/test_MildDemented_0043.tfrecord\n",
      "Converting... ./tfrecord/test/test_MildDemented_0044.tfrecord\n",
      "Converting... ./tfrecord/test/test_MildDemented_0045.tfrecord\n",
      "Converting... ./tfrecord/test/test_MildDemented_0046.tfrecord\n",
      "Converting... ./tfrecord/test/test_MildDemented_0047.tfrecord\n",
      "Converting... ./tfrecord/test/test_MildDemented_0048.tfrecord\n",
      "Converting... ./tfrecord/test/test_MildDemented_0049.tfrecord\n",
      "Converting... ./tfrecord/test/test_MildDemented_0050.tfrecord\n",
      "Converting... ./tfrecord/test/test_MildDemented_0051.tfrecord\n",
      "Converting... ./tfrecord/test/test_MildDemented_0052.tfrecord\n",
      "Converting... ./tfrecord/test/test_MildDemented_0053.tfrecord\n",
      "Converting... ./tfrecord/test/test_MildDemented_0054.tfrecord\n",
      "Converting... ./tfrecord/test/test_MildDemented_0055.tfrecord\n",
      "Converting... ./tfrecord/test/test_MildDemented_0056.tfrecord\n",
      "Converting... ./tfrecord/test/test_MildDemented_0057.tfrecord\n",
      "Converting... ./tfrecord/test/test_MildDemented_0058.tfrecord\n",
      "Converting... ./tfrecord/test/test_MildDemented_0059.tfrecord\n",
      "Converting... ./tfrecord/test/test_MildDemented_0060.tfrecord\n",
      "Converting... ./tfrecord/test/test_MildDemented_0061.tfrecord\n",
      "Converting... ./tfrecord/test/test_MildDemented_0062.tfrecord\n",
      "Converting... ./tfrecord/test/test_MildDemented_0063.tfrecord\n",
      "Converting... ./tfrecord/test/test_MildDemented_0064.tfrecord\n",
      "Converting... ./tfrecord/test/test_MildDemented_0065.tfrecord\n",
      "Converting... ./tfrecord/test/test_MildDemented_0066.tfrecord\n",
      "Converting... ./tfrecord/test/test_MildDemented_0067.tfrecord\n",
      "Converting... ./tfrecord/test/test_MildDemented_0068.tfrecord\n",
      "Converting... ./tfrecord/test/test_MildDemented_0069.tfrecord\n",
      "Converting... ./tfrecord/test/test_MildDemented_0070.tfrecord\n",
      "Converting... ./tfrecord/test/test_MildDemented_0071.tfrecord\n",
      "Converting... ./tfrecord/test/test_MildDemented_0072.tfrecord\n",
      "Converting... ./tfrecord/test/test_MildDemented_0073.tfrecord\n",
      "Converting... ./tfrecord/test/test_MildDemented_0074.tfrecord\n",
      "Converting... ./tfrecord/test/test_MildDemented_0075.tfrecord\n",
      "Converting... ./tfrecord/test/test_MildDemented_0076.tfrecord\n",
      "Converting... ./tfrecord/test/test_MildDemented_0077.tfrecord\n",
      "Converting... ./tfrecord/test/test_MildDemented_0078.tfrecord\n",
      "Converting... ./tfrecord/test/test_MildDemented_0079.tfrecord\n",
      "Converting... ./tfrecord/test/test_MildDemented_0080.tfrecord\n",
      "Converting... ./tfrecord/test/test_MildDemented_0081.tfrecord\n",
      "Converting... ./tfrecord/test/test_MildDemented_0082.tfrecord\n",
      "Converting... ./tfrecord/test/test_MildDemented_0083.tfrecord\n",
      "Converting... ./tfrecord/test/test_MildDemented_0084.tfrecord\n",
      "Converting... ./tfrecord/test/test_MildDemented_0085.tfrecord\n",
      "Converting... ./tfrecord/test/test_MildDemented_0086.tfrecord\n",
      "Converting... ./tfrecord/test/test_MildDemented_0087.tfrecord\n",
      "Converting... ./tfrecord/test/test_MildDemented_0088.tfrecord\n",
      "Converting... ./tfrecord/test/test_MildDemented_0089.tfrecord\n",
      "Converting... ./tfrecord/test/test_MildDemented_0090.tfrecord\n",
      "Converting... ./tfrecord/test/test_MildDemented_0091.tfrecord\n",
      "Converting... ./tfrecord/test/test_MildDemented_0092.tfrecord\n",
      "Converting... ./tfrecord/test/test_MildDemented_0093.tfrecord\n",
      "Converting... ./tfrecord/test/test_MildDemented_0094.tfrecord\n",
      "Converting... ./tfrecord/test/test_MildDemented_0095.tfrecord\n",
      "Converting... ./tfrecord/test/test_MildDemented_0096.tfrecord\n",
      "Converting... ./tfrecord/test/test_MildDemented_0097.tfrecord\n",
      "Converting... ./tfrecord/test/test_MildDemented_0098.tfrecord\n",
      "Converting... ./tfrecord/test/test_MildDemented_0099.tfrecord\n",
      "Converting... ./tfrecord/test/test_MildDemented_0100.tfrecord\n",
      "Converting... ./tfrecord/test/test_MildDemented_0101.tfrecord\n",
      "Converting... ./tfrecord/test/test_MildDemented_0102.tfrecord\n",
      "Converting... ./tfrecord/test/test_MildDemented_0103.tfrecord\n",
      "Converting... ./tfrecord/test/test_MildDemented_0104.tfrecord\n",
      "Converting... ./tfrecord/test/test_MildDemented_0105.tfrecord\n",
      "Converting... ./tfrecord/test/test_MildDemented_0106.tfrecord\n",
      "Converting... ./tfrecord/test/test_MildDemented_0107.tfrecord\n",
      "Converting... ./tfrecord/test/test_MildDemented_0108.tfrecord\n",
      "Converting... ./tfrecord/test/test_MildDemented_0109.tfrecord\n",
      "Converting... ./tfrecord/test/test_MildDemented_0110.tfrecord\n",
      "Converting... ./tfrecord/test/test_MildDemented_0111.tfrecord\n",
      "Converting... ./tfrecord/test/test_MildDemented_0112.tfrecord\n",
      "Converting... ./tfrecord/test/test_MildDemented_0113.tfrecord\n",
      "Converting... ./tfrecord/test/test_MildDemented_0114.tfrecord\n",
      "Converting... ./tfrecord/test/test_MildDemented_0115.tfrecord\n",
      "Converting... ./tfrecord/test/test_MildDemented_0116.tfrecord\n",
      "Converting... ./tfrecord/test/test_MildDemented_0117.tfrecord\n",
      "Converting... ./tfrecord/test/test_MildDemented_0118.tfrecord\n",
      "Converting... ./tfrecord/test/test_MildDemented_0119.tfrecord\n",
      "Converting... ./tfrecord/test/test_MildDemented_0120.tfrecord\n",
      "Converting... ./tfrecord/test/test_MildDemented_0121.tfrecord\n",
      "Converting... ./tfrecord/test/test_MildDemented_0122.tfrecord\n",
      "Converting... ./tfrecord/test/test_MildDemented_0123.tfrecord\n",
      "Converting... ./tfrecord/test/test_MildDemented_0124.tfrecord\n",
      "Converting... ./tfrecord/test/test_MildDemented_0125.tfrecord\n",
      "Converting... ./tfrecord/test/test_MildDemented_0126.tfrecord\n",
      "Converting... ./tfrecord/test/test_MildDemented_0127.tfrecord\n",
      "Converting... ./tfrecord/test/test_MildDemented_0128.tfrecord\n",
      "Converting... ./tfrecord/test/test_MildDemented_0129.tfrecord\n",
      "Converting... ./tfrecord/test/test_MildDemented_0130.tfrecord\n",
      "Converting... ./tfrecord/test/test_MildDemented_0131.tfrecord\n",
      "Converting... ./tfrecord/test/test_MildDemented_0132.tfrecord\n",
      "Converting... ./tfrecord/test/test_MildDemented_0133.tfrecord\n",
      "Converting... ./tfrecord/test/test_MildDemented_0134.tfrecord\n",
      "Converting... ./tfrecord/test/test_MildDemented_0135.tfrecord\n",
      "Converting... ./tfrecord/test/test_MildDemented_0136.tfrecord\n",
      "Converting... ./tfrecord/test/test_MildDemented_0137.tfrecord\n",
      "Converting... ./tfrecord/test/test_MildDemented_0138.tfrecord\n",
      "Converting... ./tfrecord/test/test_MildDemented_0139.tfrecord\n",
      "Converting... ./tfrecord/test/test_MildDemented_0140.tfrecord\n",
      "Converting... ./tfrecord/test/test_MildDemented_0141.tfrecord\n",
      "Converting... ./tfrecord/test/test_MildDemented_0142.tfrecord\n",
      "Converting... ./tfrecord/test/test_MildDemented_0143.tfrecord\n",
      "Converting... ./tfrecord/test/test_MildDemented_0144.tfrecord\n",
      "Converting... ./tfrecord/test/test_MildDemented_0145.tfrecord\n",
      "Converting... ./tfrecord/test/test_MildDemented_0146.tfrecord\n",
      "Converting... ./tfrecord/test/test_MildDemented_0147.tfrecord\n",
      "Converting... ./tfrecord/test/test_MildDemented_0148.tfrecord\n"
     ]
    },
    {
     "name": "stdout",
     "output_type": "stream",
     "text": [
      "Converting... ./tfrecord/test/test_MildDemented_0149.tfrecord\n",
      "Converting... ./tfrecord/test/test_MildDemented_0150.tfrecord\n",
      "Converting... ./tfrecord/test/test_MildDemented_0151.tfrecord\n",
      "Converting... ./tfrecord/test/test_MildDemented_0152.tfrecord\n",
      "Converting... ./tfrecord/test/test_MildDemented_0153.tfrecord\n",
      "Converting... ./tfrecord/test/test_MildDemented_0154.tfrecord\n",
      "Converting... ./tfrecord/test/test_MildDemented_0155.tfrecord\n",
      "Converting... ./tfrecord/test/test_MildDemented_0156.tfrecord\n",
      "Converting... ./tfrecord/test/test_MildDemented_0157.tfrecord\n",
      "Converting... ./tfrecord/test/test_MildDemented_0158.tfrecord\n",
      "Converting... ./tfrecord/test/test_MildDemented_0159.tfrecord\n",
      "Converting... ./tfrecord/test/test_MildDemented_0160.tfrecord\n",
      "Converting... ./tfrecord/test/test_MildDemented_0161.tfrecord\n",
      "Converting... ./tf"
     ]
    },
    {
     "data": {
      "text/html": [
       "<b>limit_output extension: Maximum message size of 10000 exceeded with 11098 characters</b>"
      ]
     },
     "metadata": {},
     "output_type": "display_data"
    }
   ],
   "source": [
    "dataset_path = \"./dataset\"\n",
    "write_tfrecord(dataset_path)"
   ]
  },
  {
   "cell_type": "markdown",
   "metadata": {},
   "source": [
    "### Read TFRecord file"
   ]
  },
  {
   "cell_type": "code",
   "execution_count": 29,
   "metadata": {
    "ExecuteTime": {
     "end_time": "2021-04-26T06:57:45.680216Z",
     "start_time": "2021-04-26T06:57:45.666214Z"
    }
   },
   "outputs": [],
   "source": [
    "@tf.autograph.experimental.do_not_convert\n",
    "def _parse_image_function(example_proto):\n",
    "    return tf.io.parse_single_example(example_proto, image_feature_description)"
   ]
  },
  {
   "cell_type": "code",
   "execution_count": 38,
   "metadata": {
    "ExecuteTime": {
     "end_time": "2021-04-26T07:01:27.392144Z",
     "start_time": "2021-04-26T07:01:27.375339Z"
    }
   },
   "outputs": [],
   "source": [
    "def read_tfrecord(main_path: str):\n",
    "    filenames = glob.glob(main_path + \"/*/*.tfrecod\")\n",
    "    raw_dataset = tf.data.TFRecordDataset(filenames)\n",
    "    \n",
    "    image_feature_description = {\n",
    "        \"raw_image\": tf.io.FixedLenFeature([], tf.string),\n",
    "        \"label\": tf.io.FixedLenFeature([], tf.int64),\n",
    "        \"group\": tf.io.FixedLenFeature([], tf.int64),\n",
    "    }"
   ]
  },
  {
   "cell_type": "code",
   "execution_count": 39,
   "metadata": {
    "ExecuteTime": {
     "end_time": "2021-04-26T07:01:27.751908Z",
     "start_time": "2021-04-26T07:01:27.707890Z"
    }
   },
   "outputs": [],
   "source": [
    "read_tfrecord(\"./tfrecord\")"
   ]
  },
  {
   "cell_type": "code",
   "execution_count": null,
   "metadata": {},
   "outputs": [],
   "source": []
  }
 ],
 "metadata": {
  "hide_input": false,
  "kernelspec": {
   "display_name": "Python 3",
   "language": "python",
   "name": "python3"
  },
  "language_info": {
   "codemirror_mode": {
    "name": "ipython",
    "version": 3
   },
   "file_extension": ".py",
   "mimetype": "text/x-python",
   "name": "python",
   "nbconvert_exporter": "python",
   "pygments_lexer": "ipython3",
   "version": "3.6.10"
  },
  "toc": {
   "base_numbering": 1,
   "nav_menu": {},
   "number_sections": true,
   "sideBar": true,
   "skip_h1_title": false,
   "title_cell": "Table of Contents",
   "title_sidebar": "Contents",
   "toc_cell": false,
   "toc_position": {},
   "toc_section_display": true,
   "toc_window_display": false
  },
  "varInspector": {
   "cols": {
    "lenName": 16,
    "lenType": 16,
    "lenVar": 40
   },
   "kernels_config": {
    "python": {
     "delete_cmd_postfix": "",
     "delete_cmd_prefix": "del ",
     "library": "var_list.py",
     "varRefreshCmd": "print(var_dic_list())"
    },
    "r": {
     "delete_cmd_postfix": ") ",
     "delete_cmd_prefix": "rm(",
     "library": "var_list.r",
     "varRefreshCmd": "cat(var_dic_list()) "
    }
   },
   "types_to_exclude": [
    "module",
    "function",
    "builtin_function_or_method",
    "instance",
    "_Feature"
   ],
   "window_display": false
  }
 },
 "nbformat": 4,
 "nbformat_minor": 4
}
