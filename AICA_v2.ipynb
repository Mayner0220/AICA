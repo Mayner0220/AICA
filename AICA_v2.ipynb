{
 "cells": [
  {
   "cell_type": "markdown",
   "metadata": {},
   "source": [
    "### Setup"
   ]
  },
  {
   "cell_type": "code",
   "execution_count": 1,
   "metadata": {
    "ExecuteTime": {
     "end_time": "2021-04-29T01:51:26.369721Z",
     "start_time": "2021-04-29T01:51:26.367759Z"
    }
   },
   "outputs": [],
   "source": [
    "import os\n",
    "os.environ['TF_CPP_MIN_LOG_LEVEL'] = \"3\""
   ]
  },
  {
   "cell_type": "markdown",
   "metadata": {},
   "source": [
    "To prevent elements such as Tensorflow import logs, perform these tasks."
   ]
  },
  {
   "cell_type": "code",
   "execution_count": 2,
   "metadata": {
    "ExecuteTime": {
     "end_time": "2021-04-29T01:51:30.154963Z",
     "start_time": "2021-04-29T01:51:26.734440Z"
    }
   },
   "outputs": [],
   "source": [
    "import glob\n",
    "import numpy as np\n",
    "import tensorflow as tf\n",
    "import matplotlib.pyplot as plt"
   ]
  },
  {
   "cell_type": "code",
   "execution_count": 3,
   "metadata": {
    "ExecuteTime": {
     "end_time": "2021-04-29T01:51:30.315098Z",
     "start_time": "2021-04-29T01:51:30.300765Z"
    }
   },
   "outputs": [
    {
     "name": "stdout",
     "output_type": "stream",
     "text": [
      "Number of replicas: 1\n"
     ]
    }
   ],
   "source": [
    "try:\n",
    "    tpu = tf.distribute.cluster_resolver.TPUClusterResolver()\n",
    "    print(\"Device:\", tpu.master())\n",
    "    tf.config.experimental_connect_to_cluster(tpu)\n",
    "    tf.tpu.experimental.initialize_tpu_system(tpu)\n",
    "    strategy = tf.distribute.experimental.TPUStrategy(tpu)\n",
    "except:\n",
    "    strategy = tf.distribute.get_strategy()\n",
    "print(\"Number of replicas:\", strategy.num_replicas_in_sync)"
   ]
  },
  {
   "cell_type": "code",
   "execution_count": 4,
   "metadata": {
    "ExecuteTime": {
     "end_time": "2021-04-29T01:51:55.245014Z",
     "start_time": "2021-04-29T01:51:55.240009Z"
    }
   },
   "outputs": [],
   "source": [
    "AUTOTUNE = tf.data.experimental.AUTOTUNE\n",
    "BATCH_SIZE = 16 * strategy.num_replicas_in_sync\n",
    "IMAGE_SIZE = [176, 208]\n",
    "EPOCHS = 100"
   ]
  },
  {
   "cell_type": "markdown",
   "metadata": {},
   "source": [
    "### Convert the data"
   ]
  },
  {
   "cell_type": "code",
   "execution_count": null,
   "metadata": {
    "ExecuteTime": {
     "end_time": "2021-04-29T00:45:09.517060Z",
     "start_time": "2021-04-29T00:45:09.502811Z"
    },
    "code_folding": [
     0
    ]
   },
   "outputs": [],
   "source": [
    "def _bytes_feature(value: [str, bytes]) -> tf.train.Feature:\n",
    "    \"\"\"string / byte를 byte_list로 반환합니다.\"\"\"\n",
    "    if isinstance(value, type(tf.constant(0))):\n",
    "        value = value.numpy() # BytesList는 EagerTensor에서 문자열을 풀지 않습니다.\n",
    "    \n",
    "    return tf.train.Feature(bytes_list=tf.train.BytesList(value=[value]))"
   ]
  },
  {
   "cell_type": "code",
   "execution_count": null,
   "metadata": {
    "ExecuteTime": {
     "end_time": "2021-04-29T00:45:09.610872Z",
     "start_time": "2021-04-29T00:45:09.596873Z"
    },
    "code_folding": [
     0
    ]
   },
   "outputs": [],
   "source": [
    "def _float_feature(value: float) -> tf.train.Feature:\n",
    "    \"\"\"float / double를 float_list로 반환합니다.\"\"\"\n",
    "    return tf.train.Feature(float_list=tf.train.FloatList(value=[value]))"
   ]
  },
  {
   "cell_type": "code",
   "execution_count": null,
   "metadata": {
    "ExecuteTime": {
     "end_time": "2021-04-29T00:45:09.702000Z",
     "start_time": "2021-04-29T00:45:09.687906Z"
    },
    "code_folding": [
     0
    ]
   },
   "outputs": [],
   "source": [
    "def _int64_feature(value: [bool, int]) -> tf.train.Feature:\n",
    "    \"\"\"bool / enum / int / uint를 int64_list로 반환합니다.\"\"\"\n",
    "    return tf.train.Feature(int64_list=tf.train.Int64List(value=[value]))"
   ]
  },
  {
   "cell_type": "code",
   "execution_count": null,
   "metadata": {
    "ExecuteTime": {
     "end_time": "2021-04-29T00:45:09.794375Z",
     "start_time": "2021-04-29T00:45:09.779861Z"
    },
    "code_folding": [
     0
    ]
   },
   "outputs": [],
   "source": [
    "def serialize_example(image: bytes, label: int) -> tf.train.Example.SerializeToString:\n",
    "    \"\"\"\n",
    "    파일을 만들기 위해서 tf.train.Example 메시지를 만듭니다.\n",
    "    \"\"\"\n",
    "    feature = {\n",
    "        \"raw_image\": _bytes_feature(image),\n",
    "        \"label\": _int64_feature(label),\n",
    "    }\n",
    "    \n",
    "    return tf.train.Example(features=tf.train.Features(feature=feature))"
   ]
  },
  {
   "cell_type": "code",
   "execution_count": null,
   "metadata": {
    "ExecuteTime": {
     "end_time": "2021-04-29T00:45:09.888012Z",
     "start_time": "2021-04-29T00:45:09.874629Z"
    },
    "code_folding": [
     0
    ]
   },
   "outputs": [],
   "source": [
    "def write_tfrecord(main_path: str) -> None:\n",
    "    \"\"\"\n",
    "    datset의 위치를 입력 받아, 이미지와 라벨 등을 구하여 반환한다.\n",
    "    \"\"\"\n",
    "    train_paths = glob.glob(main_path + \"/train/*/*.jpg\")\n",
    "    test_paths = glob.glob(main_path + \"/test/*/*.jpg\")\n",
    "    image_labels = {\"NonDemented\": 0, \"VeryMildDemented\": 1, \"MildDemented\": 2, \"ModerateDemented\": 3}\n",
    "    train_file = \"./tfrecord/train.tfrecord\"\n",
    "    test_file = \"./tfrecord/test.tfrecord\"\n",
    "    \n",
    "    # train TFRecord file\n",
    "    with tf.io.TFRecordWriter(train_file) as writer:\n",
    "        for path in train_paths:\n",
    "            image_string = open(path, \"rb\").read()\n",
    "            \n",
    "            label_str = path.split(\"\\\\\")[1]\n",
    "            label = image_labels[label_str]\n",
    "            \n",
    "            tf_example = serialize_example(image_string, label)\n",
    "            writer.write(tf_example.SerializeToString())\n",
    "        \n",
    "        print(\"Train TFRecord Converting Done!\")\n",
    "    \n",
    "    # test TFRecord file\n",
    "    with tf.io.TFRecordWriter(test_file) as writer:\n",
    "        for path in test_paths:\n",
    "            image_string = open(path, \"rb\").read()\n",
    "            \n",
    "            label_str = path.split(\"\\\\\")[1]\n",
    "            label = image_labels[label_str]\n",
    "            \n",
    "            tf_example = serialize_example(image_string, label)\n",
    "            writer.write(tf_example.SerializeToString())\n",
    "        \n",
    "        print(\"Test TFRecord Converting Done!\")"
   ]
  },
  {
   "cell_type": "code",
   "execution_count": null,
   "metadata": {
    "ExecuteTime": {
     "end_time": "2021-04-27T02:16:37.561597Z",
     "start_time": "2021-04-27T02:16:32.544915Z"
    }
   },
   "outputs": [],
   "source": [
    "dataset_path = \"./dataset\"\n",
    "write_tfrecord(dataset_path)"
   ]
  },
  {
   "cell_type": "markdown",
   "metadata": {},
   "source": [
    "### Load the data"
   ]
  },
  {
   "cell_type": "code",
   "execution_count": null,
   "metadata": {
    "ExecuteTime": {
     "end_time": "2021-04-29T01:14:09.417062Z",
     "start_time": "2021-04-29T01:14:08.362732Z"
    }
   },
   "outputs": [],
   "source": [
    "train_dataset = tf.data.TFRecordDataset(\"./tfrecord/train.tfrecord\")\n",
    "test_dataset = tf.data.TFRecordDataset(\"./tfrecord/test.tfrecord\")"
   ]
  },
  {
   "cell_type": "code",
   "execution_count": null,
   "metadata": {
    "ExecuteTime": {
     "end_time": "2021-04-29T01:14:09.874367Z",
     "start_time": "2021-04-29T01:14:09.544048Z"
    }
   },
   "outputs": [],
   "source": [
    "TRAIN_DATA_SIZE = len(list(train_dataset))\n",
    "train_size = int(0.75 * TRAIN_DATA_SIZE)\n",
    "\n",
    "train_dataset = train_dataset.shuffle(1000)\n",
    "test_dataset = test_dataset.shuffle(1000)\n",
    "\n",
    "validation_dataset = train_dataset.skip(train_size)\n",
    "train_dataset = train_dataset.take(train_size)"
   ]
  },
  {
   "cell_type": "code",
   "execution_count": null,
   "metadata": {
    "ExecuteTime": {
     "end_time": "2021-04-29T01:14:10.458421Z",
     "start_time": "2021-04-29T01:14:10.000935Z"
    }
   },
   "outputs": [],
   "source": [
    "train_len = len(list(train_dataset))\n",
    "validation_len = len(list(validation_dataset))\n",
    "test_len = len(list(test_dataset))\n",
    "\n",
    "print(\"Train dataset:\", train_len)\n",
    "print(\"Validation dataset:\", validation_len)\n",
    "print(\"Test dataset:\", test_len)"
   ]
  },
  {
   "cell_type": "code",
   "execution_count": null,
   "metadata": {
    "ExecuteTime": {
     "end_time": "2021-04-29T01:14:21.473184Z",
     "start_time": "2021-04-29T01:14:21.459936Z"
    }
   },
   "outputs": [],
   "source": [
    "image_feature_description = {\n",
    "    \"raw_image\": tf.io.FixedLenFeature([], tf.string),\n",
    "    \"label\": tf.io.FixedLenFeature([], tf.int64),\n",
    "}"
   ]
  },
  {
   "cell_type": "code",
   "execution_count": null,
   "metadata": {
    "ExecuteTime": {
     "end_time": "2021-04-29T01:49:15.547294Z",
     "start_time": "2021-04-29T01:49:15.532296Z"
    }
   },
   "outputs": [],
   "source": [
    "@tf.autograph.experimental.do_not_convert\n",
    "def _parse_image_function(example_proto):\n",
    "    features = tf.io.parse_single_example(example_proto, image_feature_description)\n",
    "    \n",
    "    for feature in features:  \n",
    "        image = tf.io.decode_raw(feature['image'], tf.uint8)\n",
    "        image.set_shape([3 * 176 * 208])\n",
    "        image = tf.reshape(image, [176, 208, 3])\n",
    "\n",
    "        label = tf.cast(feature[\"label\"].numpy(), tf.int64)\n",
    "        label = tf.one_hot(label, 4)\n",
    "\n",
    "    return image, label"
   ]
  },
  {
   "cell_type": "code",
   "execution_count": null,
   "metadata": {
    "ExecuteTime": {
     "end_time": "2021-04-29T01:38:30.246311Z",
     "start_time": "2021-04-29T01:38:30.239795Z"
    }
   },
   "outputs": [],
   "source": [
    "def read_dataset(epochs, batch_size, dataset):\n",
    "    dataset = dataset.map(_parse_image_function)\n",
    "    dataset = dataset.prefetch(10)\n",
    "    dataset = dataset.repeat(epochs)\n",
    "    dataset = dataset.shuffle(buffer_size=10 * batch_size)\n",
    "    dataset = dataset.batch(batch_size, drop_remainder=True)\n",
    "\n",
    "    return dataset"
   ]
  },
  {
   "cell_type": "code",
   "execution_count": null,
   "metadata": {
    "ExecuteTime": {
     "end_time": "2021-04-29T01:49:18.024416Z",
     "start_time": "2021-04-29T01:49:17.965418Z"
    }
   },
   "outputs": [],
   "source": [
    "train_dataset = read_dataset(EPOCHS, BATCH_SIZE, train_dataset)\n",
    "validation_dataset = read_dataset(EPOCHS, BATCH_SIZE, validation_dataset)\n",
    "test_dataset = read_dataset(EPOCHS, BATCH_SIZE, test_dataset)"
   ]
  },
  {
   "cell_type": "code",
   "execution_count": null,
   "metadata": {
    "ExecuteTime": {
     "end_time": "2021-04-29T01:23:16.256977Z",
     "start_time": "2021-04-29T01:23:16.238953Z"
    }
   },
   "outputs": [],
   "source": [
    "parsed_train_dataset.take(train_len)"
   ]
  },
  {
   "cell_type": "markdown",
   "metadata": {},
   "source": [
    "### Visualize dataset"
   ]
  },
  {
   "cell_type": "code",
   "execution_count": null,
   "metadata": {
    "ExecuteTime": {
     "end_time": "2021-04-28T08:13:59.773105Z",
     "start_time": "2021-04-28T08:13:59.754059Z"
    }
   },
   "outputs": [],
   "source": [
    "# train TFRecord\n",
    "for image_features in parsed_train_dataset.take(1):\n",
    "    image_raw = image_features[\"raw_image\"].numpy()\n",
    "    image_label = image_features[\"label\"].numpy()\n",
    "    display.display(display.Image(data=image_raw))\n",
    "    print(\"Label:\", image_label)"
   ]
  },
  {
   "cell_type": "code",
   "execution_count": null,
   "metadata": {
    "ExecuteTime": {
     "end_time": "2021-04-28T08:14:00.192691Z",
     "start_time": "2021-04-28T08:14:00.166657Z"
    }
   },
   "outputs": [],
   "source": [
    "# test TFRecord\n",
    "for image_features in parsed_test_dataset.take(1):\n",
    "    image_raw = image_features[\"raw_image\"].numpy()\n",
    "    image_label = image_features[\"label\"].numpy()\n",
    "    display.display(display.Image(data=image_raw))\n",
    "    print(\"Label:\", image_label)"
   ]
  },
  {
   "cell_type": "markdown",
   "metadata": {
    "ExecuteTime": {
     "end_time": "2021-04-28T11:28:01.803361Z",
     "start_time": "2021-04-28T11:28:01.794330Z"
    }
   },
   "source": [
    "### Build Model"
   ]
  },
  {
   "cell_type": "code",
   "execution_count": null,
   "metadata": {
    "ExecuteTime": {
     "end_time": "2021-04-28T11:28:43.276073Z",
     "start_time": "2021-04-28T11:28:43.267072Z"
    }
   },
   "outputs": [],
   "source": [
    "# 경증 치매, 중증도 치매, 비 치매, 매우 경미한 치매\n",
    "CLASS_NAMES = ['MildDementia', 'ModerateDementia', 'NonDementia', 'VeryMildDementia']\n",
    "NUM_CLASSES = len(CLASS_NAMES)"
   ]
  },
  {
   "cell_type": "code",
   "execution_count": null,
   "metadata": {
    "ExecuteTime": {
     "end_time": "2021-04-28T11:28:44.744120Z",
     "start_time": "2021-04-28T11:28:43.906376Z"
    }
   },
   "outputs": [],
   "source": [
    "TRAIN_DATA_SIZE = len(list(parsed_train_dataset))\n",
    "train_size = int(0.75 * TRAIN_DATA_SIZE)\n",
    "# val_size = int(0.25 * TRAIN_DATA_SIZE)\n",
    "# 테스트용 데이터셋은 따로 존재하기에 분할하지 않는다.\n",
    "# test_size = "
   ]
  },
  {
   "cell_type": "code",
   "execution_count": null,
   "metadata": {
    "ExecuteTime": {
     "end_time": "2021-04-28T11:29:21.333984Z",
     "start_time": "2021-04-28T11:29:21.323988Z"
    }
   },
   "outputs": [],
   "source": [
    "# train / validation data split\n",
    "train_dataset = parsed_train_dataset.shuffle(100)\n",
    "train_dataset = train_dataset.take(train_size)\n",
    "validation_dataset = train_dataset.skip(train_size)\n",
    "\n",
    "train_dataset = train_dataset.batch(BATCH_SIZE)\n",
    "validation_dataset = validation_dataset.batch(BATCH_SIZE)"
   ]
  },
  {
   "cell_type": "code",
   "execution_count": null,
   "metadata": {
    "ExecuteTime": {
     "end_time": "2021-04-28T11:22:08.506764Z",
     "start_time": "2021-04-28T11:22:08.502646Z"
    }
   },
   "outputs": [],
   "source": [
    "def conv_block(filters):\n",
    "    block = tf.keras.Sequential([\n",
    "        tf.keras.layers.SeparableConv2D(filters, 3, activation='relu', padding='same'),\n",
    "        tf.keras.layers.SeparableConv2D(filters, 3, activation='relu', padding='same'),\n",
    "        tf.keras.layers.BatchNormalization(),\n",
    "        tf.keras.layers.MaxPool2D()\n",
    "    ])\n",
    "    \n",
    "    return block"
   ]
  },
  {
   "cell_type": "code",
   "execution_count": null,
   "metadata": {
    "ExecuteTime": {
     "end_time": "2021-04-28T11:22:15.301814Z",
     "start_time": "2021-04-28T11:22:15.293791Z"
    }
   },
   "outputs": [],
   "source": [
    "def dense_block(units, dropout_rate):\n",
    "    block = tf.keras.Sequential([\n",
    "        tf.keras.layers.Dense(units, activation='relu'),\n",
    "        tf.keras.layers.BatchNormalization(),\n",
    "        tf.keras.layers.Dropout(dropout_rate)\n",
    "    ])\n",
    "    \n",
    "    return block"
   ]
  },
  {
   "cell_type": "code",
   "execution_count": null,
   "metadata": {
    "ExecuteTime": {
     "end_time": "2021-04-28T11:22:27.383852Z",
     "start_time": "2021-04-28T11:22:27.369854Z"
    }
   },
   "outputs": [],
   "source": [
    "def build_model():\n",
    "    model = tf.keras.Sequential([\n",
    "        tf.keras.Input(shape=(*IMAGE_SIZE, 3)),\n",
    "        \n",
    "        tf.keras.layers.Conv2D(16, 3, activation='relu', padding='same'),\n",
    "        tf.keras.layers.Conv2D(16, 3, activation='relu', padding='same'),\n",
    "        tf.keras.layers.MaxPool2D(),\n",
    "        \n",
    "        conv_block(32),\n",
    "        conv_block(64),\n",
    "        \n",
    "        conv_block(128),\n",
    "        tf.keras.layers.Dropout(0.2),\n",
    "        \n",
    "        conv_block(256),\n",
    "        tf.keras.layers.Dropout(0.2),\n",
    "        \n",
    "        tf.keras.layers.Flatten(),\n",
    "        dense_block(512, 0.7),\n",
    "        dense_block(128, 0.5),\n",
    "        dense_block(64, 0.3),\n",
    "        \n",
    "        tf.keras.layers.Dense(NUM_CLASSES, activation='softmax')\n",
    "    ])\n",
    "    \n",
    "    return model"
   ]
  },
  {
   "cell_type": "code",
   "execution_count": null,
   "metadata": {
    "ExecuteTime": {
     "end_time": "2021-04-28T11:24:44.871598Z",
     "start_time": "2021-04-28T11:24:43.446332Z"
    }
   },
   "outputs": [],
   "source": [
    "with strategy.scope():\n",
    "    model = build_model()\n",
    "\n",
    "    METRICS = [tf.keras.metrics.AUC(name='auc')]\n",
    "    \n",
    "    model.compile(\n",
    "        optimizer='adam',\n",
    "        loss=tf.losses.CategoricalCrossentropy(),\n",
    "        metrics=METRICS\n",
    "    )\n",
    "    \n",
    "    model.summary()"
   ]
  },
  {
   "cell_type": "markdown",
   "metadata": {},
   "source": [
    "### Train Model"
   ]
  },
  {
   "cell_type": "code",
   "execution_count": null,
   "metadata": {
    "ExecuteTime": {
     "end_time": "2021-04-28T13:20:10.054278Z",
     "start_time": "2021-04-28T13:20:10.044124Z"
    }
   },
   "outputs": [],
   "source": [
    "@tf.autograph.experimental.do_not_convert\n",
    "def exponential_decay(lr0, s):\n",
    "    def exponential_decay_fn(epoch):\n",
    "        return lr0 * 0.1 **(epoch / s)\n",
    "    return exponential_decay_fn\n",
    "\n",
    "exponential_decay_fn = exponential_decay(0.01, 20)\n",
    "\n",
    "lr_scheduler = tf.keras.callbacks.LearningRateScheduler(exponential_decay_fn)\n",
    "\n",
    "checkpoint_cb = tf.keras.callbacks.ModelCheckpoint(\"AICAv2.h5\",\n",
    "                                                    save_best_only=True)\n",
    "\n",
    "early_stopping_cb = tf.keras.callbacks.EarlyStopping(patience=10,\n",
    "                                                     restore_best_weights=True)"
   ]
  },
  {
   "cell_type": "code",
   "execution_count": null,
   "metadata": {
    "ExecuteTime": {
     "end_time": "2021-04-28T13:24:02.030740Z",
     "start_time": "2021-04-28T13:23:58.886141Z"
    }
   },
   "outputs": [],
   "source": [
    "history = model.fit(\n",
    "    train_dataset,\n",
    "    validation_data=validation_dataset,\n",
    "    callbacks=[checkpoint_cb, early_stopping_cb, lr_scheduler],\n",
    "    epochs=EPOCHS\n",
    ")"
   ]
  },
  {
   "cell_type": "code",
   "execution_count": null,
   "metadata": {},
   "outputs": [],
   "source": []
  }
 ],
 "metadata": {
  "hide_input": false,
  "kernelspec": {
   "display_name": "Python 3",
   "language": "python",
   "name": "python3"
  },
  "language_info": {
   "codemirror_mode": {
    "name": "ipython",
    "version": 3
   },
   "file_extension": ".py",
   "mimetype": "text/x-python",
   "name": "python",
   "nbconvert_exporter": "python",
   "pygments_lexer": "ipython3",
   "version": "3.6.10"
  },
  "toc": {
   "base_numbering": 1,
   "nav_menu": {},
   "number_sections": true,
   "sideBar": true,
   "skip_h1_title": false,
   "title_cell": "Table of Contents",
   "title_sidebar": "Contents",
   "toc_cell": false,
   "toc_position": {},
   "toc_section_display": true,
   "toc_window_display": false
  },
  "varInspector": {
   "cols": {
    "lenName": 16,
    "lenType": 16,
    "lenVar": 40
   },
   "kernels_config": {
    "python": {
     "delete_cmd_postfix": "",
     "delete_cmd_prefix": "del ",
     "library": "var_list.py",
     "varRefreshCmd": "print(var_dic_list())"
    },
    "r": {
     "delete_cmd_postfix": ") ",
     "delete_cmd_prefix": "rm(",
     "library": "var_list.r",
     "varRefreshCmd": "cat(var_dic_list()) "
    }
   },
   "types_to_exclude": [
    "module",
    "function",
    "builtin_function_or_method",
    "instance",
    "_Feature"
   ],
   "window_display": false
  }
 },
 "nbformat": 4,
 "nbformat_minor": 4
}
