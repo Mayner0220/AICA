{
 "cells": [
  {
   "cell_type": "markdown",
   "metadata": {},
   "source": [
    "### Import libraries"
   ]
  },
  {
   "cell_type": "code",
   "execution_count": 1,
   "metadata": {
    "ExecuteTime": {
     "end_time": "2021-04-22T03:07:42.448966Z",
     "start_time": "2021-04-22T03:07:42.438449Z"
    }
   },
   "outputs": [],
   "source": [
    "import os\n",
    "os.environ['TF_CPP_MIN_LOG_LEVEL'] = \"3\""
   ]
  },
  {
   "cell_type": "markdown",
   "metadata": {},
   "source": [
    "To prevent elements such as Tensorflow import logs, perform these tasks."
   ]
  },
  {
   "cell_type": "code",
   "execution_count": 2,
   "metadata": {
    "ExecuteTime": {
     "end_time": "2021-04-22T03:07:46.008306Z",
     "start_time": "2021-04-22T03:07:43.044344Z"
    }
   },
   "outputs": [],
   "source": [
    "import glob\n",
    "import numpy as np\n",
    "import tensorflow as tf\n",
    "import IPython.display as display"
   ]
  },
  {
   "cell_type": "markdown",
   "metadata": {},
   "source": [
    "### Convert raw files to TFRecord"
   ]
  },
  {
   "cell_type": "code",
   "execution_count": 3,
   "metadata": {
    "ExecuteTime": {
     "end_time": "2021-04-22T03:07:46.151310Z",
     "start_time": "2021-04-22T03:07:46.136306Z"
    }
   },
   "outputs": [],
   "source": [
    "def _bytes_feature(value: [str, bytes]) -> tf.train.Feature:\n",
    "    \"\"\"string / byte를 byte_list로 반환합니다.\"\"\"\n",
    "    if isinstance(value, type(tf.constant(0))):\n",
    "        value = value.numpy() # BytesList는 EagerTensor에서 문자열을 풀지 않습니다.\n",
    "    \n",
    "    return tf.train.Feature(bytes_list=tf.train.BytesList(value=[value]))"
   ]
  },
  {
   "cell_type": "code",
   "execution_count": 4,
   "metadata": {
    "ExecuteTime": {
     "end_time": "2021-04-22T03:07:46.294481Z",
     "start_time": "2021-04-22T03:07:46.280306Z"
    }
   },
   "outputs": [],
   "source": [
    "def _float_feature(value: float) -> tf.train.Feature:\n",
    "    \"\"\"float / double를 float_list로 반환합니다.\"\"\"\n",
    "    return tf.train.Feature(float_list=tf.train.FloatList(value=[value]))"
   ]
  },
  {
   "cell_type": "code",
   "execution_count": 5,
   "metadata": {
    "ExecuteTime": {
     "end_time": "2021-04-22T03:07:46.435940Z",
     "start_time": "2021-04-22T03:07:46.420542Z"
    }
   },
   "outputs": [],
   "source": [
    "def _int64_feature(value: [bool, int]) -> tf.train.Feature:\n",
    "    \"\"\"bool / enum / int / uint를 int64_list로 반환합니다.\"\"\"\n",
    "    return tf.train.Feature(int64_list=tf.train.Int64List(value=[value]))"
   ]
  },
  {
   "cell_type": "code",
   "execution_count": 6,
   "metadata": {
    "ExecuteTime": {
     "end_time": "2021-04-22T03:07:46.575788Z",
     "start_time": "2021-04-22T03:07:46.562369Z"
    }
   },
   "outputs": [],
   "source": [
    "def _image_to_byte(value: str) -> bytes:\n",
    "    \"\"\"image를 bytes로 반환합니다.\"\"\"\n",
    "    raw_image = open(value, \"rb\")\n",
    "    image_bytes = raw_image.read()\n",
    "    return image_bytes"
   ]
  },
  {
   "cell_type": "code",
   "execution_count": 7,
   "metadata": {
    "ExecuteTime": {
     "end_time": "2021-04-22T03:07:46.716162Z",
     "start_time": "2021-04-22T03:07:46.701761Z"
    }
   },
   "outputs": [],
   "source": [
    "def serialize_example(raw_image: str, label_str: str, label_int: int, for_test: bool) -> tf.train.Example.SerializeToString:\n",
    "    \"\"\"\n",
    "    파일을 만들기 위해서 tf.train.Example 메시지를 만듭니다.\n",
    "    \"\"\"\n",
    "    feature = {\n",
    "        \"raw_image\": _bytes_feature(_image_to_byte(raw_image)),\n",
    "        \"label_str\": _bytes_feature(bytes(label_str, encoding=\"utf-8\")),\n",
    "        \"label_int\": _int64_feature(label_int),\n",
    "        \"for_test\": _int64_feature(for_test),\n",
    "    }\n",
    "    \n",
    "    example_proto = tf.train.Example(features=tf.train.Features(feature=feature))\n",
    "    return example_proto.SerializeToString"
   ]
  },
  {
   "cell_type": "code",
   "execution_count": 10,
   "metadata": {
    "ExecuteTime": {
     "end_time": "2021-04-22T03:08:00.345023Z",
     "start_time": "2021-04-22T03:08:00.333988Z"
    }
   },
   "outputs": [],
   "source": [
    "def get_dataset_information(path: str) -> np.array:\n",
    "    \"\"\"\n",
    "    데이터의 정보(이미지 경로, 라벨, 테스트용 유무)의 정보를 리스트로 정리하여 np.array로 반환합니다.\n",
    "    \"\"\"\n",
    "    raw_image, label_str, label_int, for_test = [], [], [], []\n",
    "    label_form = {\"NonDemented\": 0, \"VeryMildDemented\": 1, \"MildDemented\": 2, \"ModerateDemented\": 3}\n",
    "    \n",
    "    image_paths = glob.glob(path + \"/*/*/*.jpg\")\n",
    "    \n",
    "    for image_path in image_paths:\n",
    "        image_information = image_path.split(\"\\\\\")\n",
    "        data_type, label = map(str, image_information[1:3])\n",
    "        \n",
    "        raw_image.append(image_path)\n",
    "        label_str.append(label)\n",
    "        label_int.append(label_form[label])\n",
    "        for_test.append(True if data_type==\"test\" else False)\n",
    "        \n",
    "    return np.array(raw_image), np.array(label_str), np.array(label_int, dtype=np.int64), np.array(for_test)"
   ]
  },
  {
   "cell_type": "code",
   "execution_count": 12,
   "metadata": {
    "ExecuteTime": {
     "end_time": "2021-04-22T06:11:28.490195Z",
     "start_time": "2021-04-22T06:11:28.421012Z"
    }
   },
   "outputs": [],
   "source": [
    "raw_image, label_str, label_int, for_test = get_dataset_information(\"./dataset\")\n",
    "\n",
    "features_dataset = tf.data.Dataset.from_tensor_slices((raw_image, label_str, label_int, for_test))"
   ]
  },
  {
   "cell_type": "code",
   "execution_count": 15,
   "metadata": {
    "ExecuteTime": {
     "end_time": "2021-04-22T08:17:25.203223Z",
     "start_time": "2021-04-22T08:17:24.753930Z"
    }
   },
   "outputs": [
    {
     "name": "stdout",
     "output_type": "stream",
     "text": [
      "tf.Tensor(b'./dataset\\\\test\\\\MildDemented\\\\26 (19).jpg', shape=(), dtype=string)\n",
      "tf.Tensor(b'MildDemented', shape=(), dtype=string)\n",
      "tf.Tensor(2, shape=(), dtype=int64)\n",
      "tf.Tensor(True, shape=(), dtype=bool)\n"
     ]
    }
   ],
   "source": [
    "for f0, f1, f2, f3 in features_dataset.take(1):\n",
    "    print(f0)\n",
    "    print(f1)\n",
    "    print(f2)\n",
    "    print(f3)"
   ]
  },
  {
   "cell_type": "code",
   "execution_count": 16,
   "metadata": {
    "ExecuteTime": {
     "end_time": "2021-04-22T09:54:00.905634Z",
     "start_time": "2021-04-22T09:54:00.895631Z"
    }
   },
   "outputs": [],
   "source": [
    "def tf_serialize_example(raw_image, label_str, label_int, for_test):\n",
    "    tf_string = tf.py_function(serialize_example,\n",
    "                              (raw_image, label_str, label_int, for_test),\n",
    "                               tf.string)\n",
    "    return tf.reshape(tf_string, ())"
   ]
  },
  {
   "cell_type": "code",
   "execution_count": 17,
   "metadata": {
    "ExecuteTime": {
     "end_time": "2021-04-22T09:56:04.619606Z",
     "start_time": "2021-04-22T09:56:04.063841Z"
    }
   },
   "outputs": [
    {
     "name": "stdout",
     "output_type": "stream",
     "text": [
      "WARNING:tensorflow:AutoGraph could not transform <function tf_serialize_example at 0x0000020189A270D0> and will run it as-is.\n",
      "Please report this to the TensorFlow team. When filing the bug, set the verbosity to 10 (on Linux, `export AUTOGRAPH_VERBOSITY=10`) and attach the full output.\n",
      "Cause: 'arguments' object has no attribute 'posonlyargs'\n",
      "To silence this warning, decorate the function with @tf.autograph.experimental.do_not_convert\n",
      "WARNING: AutoGraph could not transform <function tf_serialize_example at 0x0000020189A270D0> and will run it as-is.\n",
      "Please report this to the TensorFlow team. When filing the bug, set the verbosity to 10 (on Linux, `export AUTOGRAPH_VERBOSITY=10`) and attach the full output.\n",
      "Cause: 'arguments' object has no attribute 'posonlyargs'\n",
      "To silence this warning, decorate the function with @tf.autograph.experimental.do_not_convert\n"
     ]
    }
   ],
   "source": [
    "serialized_features_dataset = features_dataset.map(tf_serialize_example)"
   ]
  },
  {
   "cell_type": "code",
   "execution_count": 18,
   "metadata": {
    "ExecuteTime": {
     "end_time": "2021-04-22T09:56:49.694370Z",
     "start_time": "2021-04-22T09:56:49.683371Z"
    }
   },
   "outputs": [],
   "source": [
    "def generator():\n",
    "    for features in features_dataset:\n",
    "        yield serialize_example(*features)"
   ]
  },
  {
   "cell_type": "code",
   "execution_count": 20,
   "metadata": {
    "ExecuteTime": {
     "end_time": "2021-04-22T09:57:05.041879Z",
     "start_time": "2021-04-22T09:57:05.007857Z"
    }
   },
   "outputs": [],
   "source": [
    "serialized_features_dataset = tf.data.Dataset.from_generator(\n",
    "    generator, output_types=tf.string, output_shapes=())"
   ]
  },
  {
   "cell_type": "code",
   "execution_count": 21,
   "metadata": {
    "ExecuteTime": {
     "end_time": "2021-04-22T10:01:52.212751Z",
     "start_time": "2021-04-22T10:01:52.207751Z"
    }
   },
   "outputs": [
    {
     "data": {
      "text/plain": [
       "<FlatMapDataset shapes: (), types: tf.string>"
      ]
     },
     "execution_count": 21,
     "metadata": {},
     "output_type": "execute_result"
    }
   ],
   "source": [
    "filename = \"\""
   ]
  }
 ],
 "metadata": {
  "hide_input": false,
  "kernelspec": {
   "display_name": "Python 3",
   "language": "python",
   "name": "python3"
  },
  "language_info": {
   "codemirror_mode": {
    "name": "ipython",
    "version": 3
   },
   "file_extension": ".py",
   "mimetype": "text/x-python",
   "name": "python",
   "nbconvert_exporter": "python",
   "pygments_lexer": "ipython3",
   "version": "3.6.10"
  },
  "toc": {
   "base_numbering": 1,
   "nav_menu": {},
   "number_sections": true,
   "sideBar": true,
   "skip_h1_title": false,
   "title_cell": "Table of Contents",
   "title_sidebar": "Contents",
   "toc_cell": false,
   "toc_position": {},
   "toc_section_display": true,
   "toc_window_display": false
  },
  "varInspector": {
   "cols": {
    "lenName": 16,
    "lenType": 16,
    "lenVar": 40
   },
   "kernels_config": {
    "python": {
     "delete_cmd_postfix": "",
     "delete_cmd_prefix": "del ",
     "library": "var_list.py",
     "varRefreshCmd": "print(var_dic_list())"
    },
    "r": {
     "delete_cmd_postfix": ") ",
     "delete_cmd_prefix": "rm(",
     "library": "var_list.r",
     "varRefreshCmd": "cat(var_dic_list()) "
    }
   },
   "types_to_exclude": [
    "module",
    "function",
    "builtin_function_or_method",
    "instance",
    "_Feature"
   ],
   "window_display": false
  }
 },
 "nbformat": 4,
 "nbformat_minor": 4
}
