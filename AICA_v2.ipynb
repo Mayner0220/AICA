{
 "cells": [
  {
   "cell_type": "markdown",
   "metadata": {},
   "source": [
    "### Import libraries"
   ]
  },
  {
   "cell_type": "code",
   "execution_count": 1,
   "metadata": {
    "ExecuteTime": {
     "end_time": "2021-04-21T06:14:39.575997Z",
     "start_time": "2021-04-21T06:14:39.560678Z"
    }
   },
   "outputs": [],
   "source": [
    "import os\n",
    "os.environ['TF_CPP_MIN_LOG_LEVEL'] = \"3\""
   ]
  },
  {
   "cell_type": "markdown",
   "metadata": {},
   "source": [
    "To prevent elements such as Tensorflow import logs, perform these tasks."
   ]
  },
  {
   "cell_type": "code",
   "execution_count": 2,
   "metadata": {
    "ExecuteTime": {
     "end_time": "2021-04-21T06:14:42.791166Z",
     "start_time": "2021-04-21T06:14:39.945097Z"
    }
   },
   "outputs": [],
   "source": [
    "import glob\n",
    "import numpy as np\n",
    "import tensorflow as tf\n",
    "import IPython.display as display"
   ]
  },
  {
   "cell_type": "markdown",
   "metadata": {},
   "source": [
    "### Create TFRecord functions"
   ]
  },
  {
   "cell_type": "code",
   "execution_count": 36,
   "metadata": {
    "ExecuteTime": {
     "end_time": "2021-04-21T09:46:35.751841Z",
     "start_time": "2021-04-21T09:46:35.744840Z"
    }
   },
   "outputs": [],
   "source": [
    "def _bytes_feature(value: [str, bytes]) -> tf.train.Feature:\n",
    "    \"\"\"string / byte를 byte_list로 반환합니다.\"\"\"\n",
    "    if isinstance(value, type(tf.constant(0))):\n",
    "        value = value.numpy() # BytesList는 EagerTensor에서 문자열을 풀지 않습니다.\n",
    "    \n",
    "    return tf.train.Feature(bytes_list=tf.train.BytesList(value=[value]))"
   ]
  },
  {
   "cell_type": "code",
   "execution_count": 13,
   "metadata": {
    "ExecuteTime": {
     "end_time": "2021-04-21T08:14:34.168906Z",
     "start_time": "2021-04-21T08:14:34.163911Z"
    }
   },
   "outputs": [],
   "source": [
    "def _float_feature(value: float) -> tf.train.Feature:\n",
    "    \"\"\"float / double를 float_list로 반환합니다.\"\"\"\n",
    "    return tf.train.Feature(float_list=tf.train.FloatList(value=[value]))"
   ]
  },
  {
   "cell_type": "code",
   "execution_count": 37,
   "metadata": {
    "ExecuteTime": {
     "end_time": "2021-04-21T09:46:38.145256Z",
     "start_time": "2021-04-21T09:46:38.130238Z"
    }
   },
   "outputs": [],
   "source": [
    "def _int64_feature(value: [bool, int]) -> tf.train.Feature:\n",
    "    \"\"\"bool / enum / int / uint를 int64_list로 반환합니다.\"\"\"\n",
    "    return tf.train.Feature(int64_list=tf.train.Int64List(value=[value]))"
   ]
  },
  {
   "cell_type": "code",
   "execution_count": 15,
   "metadata": {
    "ExecuteTime": {
     "end_time": "2021-04-21T08:15:04.823989Z",
     "start_time": "2021-04-21T08:15:04.807005Z"
    }
   },
   "outputs": [],
   "source": [
    "def _image_to_byte(value: str) -> bytes:\n",
    "    \"\"\"image를 bytes로 반환합니다.\"\"\"\n",
    "    raw_image = open(value, \"rb\")\n",
    "    image_bytes = raw_image.read()\n",
    "    return image_bytes"
   ]
  },
  {
   "cell_type": "code",
   "execution_count": 38,
   "metadata": {
    "ExecuteTime": {
     "end_time": "2021-04-21T09:46:40.205472Z",
     "start_time": "2021-04-21T09:46:40.193471Z"
    }
   },
   "outputs": [],
   "source": [
    "def serialize_example(raw_image: str, label_str: str, label_int: int, for_test: bool) -> tf.train.Example.SerializeToString:\n",
    "    \"\"\"\n",
    "    파일을 만들기 위해서 tf.train.Example 메시지를 만듭니다.\n",
    "    \"\"\"\n",
    "    feature = {\n",
    "        \"raw_image\": _bytes_feature(_image_to_byte(raw_image)),\n",
    "        \"label_str\": _bytes_feature(bytes(label_str, encoding=\"utf-8\")),\n",
    "        \"label_int\": _int64_feature(label_int),\n",
    "        \"for_test\": _int64_feature(for_test),\n",
    "    }\n",
    "    \n",
    "    example_proto = tf.train.Example(features=tf.train.Features(feature=feature))\n",
    "    return example_proto.SerializeToString"
   ]
  },
  {
   "cell_type": "code",
   "execution_count": null,
   "metadata": {},
   "outputs": [],
   "source": [
    "def get_dataset(path: str):\n",
    "    feature1, feature2, feature3, feature4 = np.array(), np.array(), np.array(), np.array()\n",
    "    \n",
    "    image_paths = glob.glob(path + \"/*/*/*.jpg\")\n",
    "    \n",
    "    for image_path in image_paths:\n",
    "        image_information = image_path.split(\"\\\\\")\n",
    "        data_type, label = map(str, image_information[1:3])"
   ]
  },
  {
   "cell_type": "code",
   "execution_count": null,
   "metadata": {},
   "outputs": [],
   "source": [
    "features_dataset = tf.data.Dataset.from_tensor_slices"
   ]
  },
  {
   "cell_type": "code",
   "execution_count": 24,
   "metadata": {
    "ExecuteTime": {
     "end_time": "2021-04-21T09:40:55.116170Z",
     "start_time": "2021-04-21T09:40:55.008418Z"
    },
    "cell_style": "center"
   },
   "outputs": [],
   "source": [
    "# Raw이미지 데이터셋 위치를 입력 받아, TFRecord로 변환하여 반환\n",
    "def convert_to_tfrecord(input_file, output_file, label_form):\n",
    "    image_paths = glob.glob(input_file + \"/*/*/*.jpg\")\n",
    "    \n",
    "    for image_path in image_paths:\n",
    "        image_bytes = _read_image_bytes(image_path)\n",
    "        \n",
    "        # 입력 받은 경로에서 데이터의 타입 및 라벨, 파일명들을 추출\n",
    "        path_information = image_path.split(\"\\\\\")\n",
    "        data_type, label, file_name = map(str, path_information[1:4])\n",
    "        \n",
    "        # tensorflow example 타입으로 변경\n",
    "        tf_example = tf.train.Example(features=tf.train.Features(feature={\n",
    "            \"image\": _bytes_feature(image_bytes),\n",
    "            \"type\": _bytes_feature(bytes(data_type, encoding=\"utf8\")),\n",
    "            \"label_string\": _bytes_feature(bytes(label, encoding=\"utf8\")),\n",
    "            \"label_int\": _int64_feature(label_form[label])\n",
    "        }))\n",
    "        \n",
    "        # train/test 데이터인지에 따라, 디렉토리를 지정 후\n",
    "        # 각 디렉토리 속 파일 갯수에 따라, 파일명을 인덱싱\n",
    "        try:\n",
    "            type_directory = output_file + \"/{0}\".format(data_type)\n",
    "            file_cnt = len(os.listdir(type_directory))\n",
    "            \n",
    "            file_name = type_directory + \"/{0}_{1}_{2}.tfrecord\".format(data_type, label, file_cnt)\n",
    "            \n",
    "            writer = tf.io.TFRecordWriter(file_name)\n",
    "        except:\n",
    "            type_directory = output_file + \"/{0}\".format(data_type)\n",
    "            os.makedirs(os.path.join(type_directory))\n",
    "            file_cnt = len(os.listdir(type_directory))\n",
    "            \n",
    "            file_name = type_directory + \"/{0}_{1}_{2}.tfrecord\".format(data_type, label, file_cnt)\n",
    "            \n",
    "            writer = tf.io.TFRecordWriter(file_name)\n",
    "        \n",
    "        try:\n",
    "            print(\"Start Generating %s\" % file_name)\n",
    "            writer.write(tf_example.SerializeToString())\n",
    "            break\n",
    "        except:\n",
    "            print(\"Failed generating %s\" % file_name)\n",
    "            pass"
   ]
  },
  {
   "cell_type": "code",
   "execution_count": 25,
   "metadata": {
    "ExecuteTime": {
     "end_time": "2021-04-21T09:40:55.179205Z",
     "start_time": "2021-04-21T09:40:55.117170Z"
    }
   },
   "outputs": [
    {
     "ename": "NameError",
     "evalue": "name '_read_image_bytes' is not defined",
     "output_type": "error",
     "traceback": [
      "\u001b[1;31m---------------------------------------------------------------------------\u001b[0m",
      "\u001b[1;31mNameError\u001b[0m                                 Traceback (most recent call last)",
      "\u001b[1;32m<ipython-input-25-d03f1a47493d>\u001b[0m in \u001b[0;36m<module>\u001b[1;34m\u001b[0m\n\u001b[0;32m      1\u001b[0m \u001b[0mlabel_form\u001b[0m \u001b[1;33m=\u001b[0m \u001b[1;33m{\u001b[0m\u001b[1;34m\"NonDemented\"\u001b[0m\u001b[1;33m:\u001b[0m \u001b[1;36m0\u001b[0m\u001b[1;33m,\u001b[0m \u001b[1;34m\"VeryMildDemented\"\u001b[0m\u001b[1;33m:\u001b[0m \u001b[1;36m1\u001b[0m\u001b[1;33m,\u001b[0m \u001b[1;34m\"MildDemented\"\u001b[0m\u001b[1;33m:\u001b[0m \u001b[1;36m2\u001b[0m\u001b[1;33m,\u001b[0m \u001b[1;34m\"ModerateDemented\"\u001b[0m\u001b[1;33m:\u001b[0m \u001b[1;36m3\u001b[0m\u001b[1;33m}\u001b[0m\u001b[1;33m\u001b[0m\u001b[1;33m\u001b[0m\u001b[0m\n\u001b[0;32m      2\u001b[0m \u001b[1;33m\u001b[0m\u001b[0m\n\u001b[1;32m----> 3\u001b[1;33m \u001b[0mconvert_to_tfrecord\u001b[0m\u001b[1;33m(\u001b[0m\u001b[1;34m\"./dataset/\"\u001b[0m\u001b[1;33m,\u001b[0m \u001b[1;34m\"./test/\"\u001b[0m\u001b[1;33m,\u001b[0m \u001b[0mlabel_form\u001b[0m\u001b[1;33m)\u001b[0m\u001b[1;33m\u001b[0m\u001b[1;33m\u001b[0m\u001b[0m\n\u001b[0m",
      "\u001b[1;32m<ipython-input-24-d32712ae17df>\u001b[0m in \u001b[0;36mconvert_to_tfrecord\u001b[1;34m(input_file, output_file, label_form)\u001b[0m\n\u001b[0;32m      4\u001b[0m \u001b[1;33m\u001b[0m\u001b[0m\n\u001b[0;32m      5\u001b[0m     \u001b[1;32mfor\u001b[0m \u001b[0mimage_path\u001b[0m \u001b[1;32min\u001b[0m \u001b[0mimage_paths\u001b[0m\u001b[1;33m:\u001b[0m\u001b[1;33m\u001b[0m\u001b[1;33m\u001b[0m\u001b[0m\n\u001b[1;32m----> 6\u001b[1;33m         \u001b[0mimage_bytes\u001b[0m \u001b[1;33m=\u001b[0m \u001b[0m_read_image_bytes\u001b[0m\u001b[1;33m(\u001b[0m\u001b[0mimage_path\u001b[0m\u001b[1;33m)\u001b[0m\u001b[1;33m\u001b[0m\u001b[1;33m\u001b[0m\u001b[0m\n\u001b[0m\u001b[0;32m      7\u001b[0m \u001b[1;33m\u001b[0m\u001b[0m\n\u001b[0;32m      8\u001b[0m         \u001b[1;31m# 입력 받은 경로에서 데이터의 타입 및 라벨, 파일명들을 추출\u001b[0m\u001b[1;33m\u001b[0m\u001b[1;33m\u001b[0m\u001b[1;33m\u001b[0m\u001b[0m\n",
      "\u001b[1;31mNameError\u001b[0m: name '_read_image_bytes' is not defined"
     ]
    }
   ],
   "source": [
    "label_form = {\"NonDemented\": 0, \"VeryMildDemented\": 1, \"MildDemented\": 2, \"ModerateDemented\": 3}\n",
    "\n",
    "convert_to_tfrecord(\"./dataset/\", \"./test/\", label_form)"
   ]
  },
  {
   "cell_type": "code",
   "execution_count": null,
   "metadata": {
    "ExecuteTime": {
     "end_time": "2021-04-21T09:40:55.181171Z",
     "start_time": "2021-04-21T09:40:55.005Z"
    },
    "scrolled": true
   },
   "outputs": [],
   "source": [
    "filename = \"./test/test/test_MildDemented_0.tfrecord\"\n",
    "raw_dataset = tf.data.TFRecordDataset(filename)\n",
    "\n",
    "features = {\n",
    "    \"image\": tf.io.FixedLenFeature([], tf.string),\n",
    "    \"type\": tf.io.FixedLenFeature([], tf.string),\n",
    "    \"label_string\": tf.io.FixedLenFeature([], tf.string),\n",
    "    \"label_int\": tf.io.FixedLenFeature([], tf.int64)\n",
    "}\n",
    "\n",
    "def _parse_image_function(example):\n",
    "    return tf.io.parse_single_example(example, features)\n",
    "\n",
    "parsed_dataset = raw_dataset.map(_parse_image_function)\n",
    "# raw_example = next(iter(parsed_dataset))\n",
    "parsed = tf.train.Example.FromString(bytes(parsed_dataset))\n",
    "\n",
    "parsed.features.features[\"type\"]\n",
    "\n",
    "# test_file = \"./test/test/test_MildDemented_0.tfrecord\"\n",
    "# raw_image_dataset = tf.data.TFRecordDataset(test_file)\n",
    "# parsed_image_dataset = raw_image_dataset.map(_parse_image_function)\n",
    "# print(parsed_image_dataset)"
   ]
  },
  {
   "cell_type": "code",
   "execution_count": null,
   "metadata": {},
   "outputs": [],
   "source": []
  }
 ],
 "metadata": {
  "hide_input": false,
  "kernelspec": {
   "display_name": "Python 3",
   "language": "python",
   "name": "python3"
  },
  "language_info": {
   "codemirror_mode": {
    "name": "ipython",
    "version": 3
   },
   "file_extension": ".py",
   "mimetype": "text/x-python",
   "name": "python",
   "nbconvert_exporter": "python",
   "pygments_lexer": "ipython3",
   "version": "3.6.10"
  },
  "toc": {
   "base_numbering": 1,
   "nav_menu": {},
   "number_sections": true,
   "sideBar": true,
   "skip_h1_title": false,
   "title_cell": "Table of Contents",
   "title_sidebar": "Contents",
   "toc_cell": false,
   "toc_position": {},
   "toc_section_display": true,
   "toc_window_display": false
  },
  "varInspector": {
   "cols": {
    "lenName": 16,
    "lenType": 16,
    "lenVar": 40
   },
   "kernels_config": {
    "python": {
     "delete_cmd_postfix": "",
     "delete_cmd_prefix": "del ",
     "library": "var_list.py",
     "varRefreshCmd": "print(var_dic_list())"
    },
    "r": {
     "delete_cmd_postfix": ") ",
     "delete_cmd_prefix": "rm(",
     "library": "var_list.r",
     "varRefreshCmd": "cat(var_dic_list()) "
    }
   },
   "types_to_exclude": [
    "module",
    "function",
    "builtin_function_or_method",
    "instance",
    "_Feature"
   ],
   "window_display": false
  }
 },
 "nbformat": 4,
 "nbformat_minor": 4
}
